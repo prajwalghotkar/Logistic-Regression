{
 "cells": [
  {
   "cell_type": "code",
   "execution_count": 1,
   "metadata": {
    "metadata": {}
   },
   "outputs": [],
   "source": [
    "import numpy as np\n",
    "import pandas as pd\n",
    "import matplotlib.pyplot as plt\n",
    "import seaborn as sns\n",
    "import os"
   ]
  },
  {
   "cell_type": "code",
   "execution_count": 2,
   "metadata": {
    "metadata": {}
   },
   "outputs": [
    {
     "data": {
      "text/plain": [
       "'c:\\\\Users\\\\HP\\\\Desktop\\\\Machine Learning Programing with prajwal'"
      ]
     },
     "execution_count": 2,
     "metadata": {},
     "output_type": "execute_result"
    }
   ],
   "source": [
    "os.getcwd()"
   ]
  },
  {
   "cell_type": "code",
   "execution_count": 3,
   "metadata": {
    "metadata": {}
   },
   "outputs": [],
   "source": [
    "# Load the Data Set\n",
    "\n",
    "os.chdir('C:\\\\Users\\\\HP\\\\Documents\\\\Batch 93 Day30\\\\')"
   ]
  },
  {
   "cell_type": "code",
   "execution_count": 4,
   "metadata": {
    "metadata": {}
   },
   "outputs": [
    {
     "name": "stdout",
     "output_type": "stream",
     "text": [
      "      User ID  Gender  Age  EstimatedSalary  Purchased\n",
      "0    11021175    Male   42           121315          0\n",
      "1    17782313    Male   53            67214          0\n",
      "2    14603818  Female   59           111005          0\n",
      "3    18188198  Female   39            53414          0\n",
      "4    19357305    Male   39           114285          0\n",
      "..        ...     ...  ...              ...        ...\n",
      "395  10220446  Female   20           141231          1\n",
      "396  12387292    Male   50            75848          1\n",
      "397  10715173  Female   25            82560          1\n",
      "398  10016842    Male   55           147667          0\n",
      "399  11699655  Female   54           134972          1\n",
      "\n",
      "[400 rows x 5 columns]\n"
     ]
    }
   ],
   "source": [
    "df1=pd.read_csv('Social_Network_Ads.csv')\n",
    "print(df1)"
   ]
  },
  {
   "cell_type": "code",
   "execution_count": 5,
   "metadata": {
    "metadata": {}
   },
   "outputs": [
    {
     "name": "stdout",
     "output_type": "stream",
     "text": [
      "<class 'pandas.core.frame.DataFrame'>\n",
      "RangeIndex: 400 entries, 0 to 399\n",
      "Data columns (total 5 columns):\n",
      " #   Column           Non-Null Count  Dtype \n",
      "---  ------           --------------  ----- \n",
      " 0   User ID          400 non-null    int64 \n",
      " 1   Gender           400 non-null    object\n",
      " 2   Age              400 non-null    int64 \n",
      " 3   EstimatedSalary  400 non-null    int64 \n",
      " 4   Purchased        400 non-null    int64 \n",
      "dtypes: int64(4), object(1)\n",
      "memory usage: 15.8+ KB\n"
     ]
    },
    {
     "data": {
      "text/plain": [
       "None"
      ]
     },
     "metadata": {},
     "output_type": "display_data"
    }
   ],
   "source": [
    "# Display Info\n",
    "\n",
    "display(df1.info())"
   ]
  },
  {
   "cell_type": "code",
   "execution_count": 6,
   "metadata": {
    "metadata": {}
   },
   "outputs": [
    {
     "data": {
      "text/html": [
       "<div>\n",
       "<style scoped>\n",
       "    .dataframe tbody tr th:only-of-type {\n",
       "        vertical-align: middle;\n",
       "    }\n",
       "\n",
       "    .dataframe tbody tr th {\n",
       "        vertical-align: top;\n",
       "    }\n",
       "\n",
       "    .dataframe thead th {\n",
       "        text-align: right;\n",
       "    }\n",
       "</style>\n",
       "<table border=\"1\" class=\"dataframe\">\n",
       "  <thead>\n",
       "    <tr style=\"text-align: right;\">\n",
       "      <th></th>\n",
       "      <th>User ID</th>\n",
       "      <th>Age</th>\n",
       "      <th>EstimatedSalary</th>\n",
       "      <th>Purchased</th>\n",
       "    </tr>\n",
       "  </thead>\n",
       "  <tbody>\n",
       "    <tr>\n",
       "      <th>count</th>\n",
       "      <td>4.000000e+02</td>\n",
       "      <td>400.000000</td>\n",
       "      <td>400.000000</td>\n",
       "      <td>400.000000</td>\n",
       "    </tr>\n",
       "    <tr>\n",
       "      <th>mean</th>\n",
       "      <td>1.510090e+07</td>\n",
       "      <td>39.885000</td>\n",
       "      <td>99748.227500</td>\n",
       "      <td>0.357500</td>\n",
       "    </tr>\n",
       "    <tr>\n",
       "      <th>std</th>\n",
       "      <td>2.862593e+06</td>\n",
       "      <td>11.796596</td>\n",
       "      <td>28374.358336</td>\n",
       "      <td>0.479864</td>\n",
       "    </tr>\n",
       "    <tr>\n",
       "      <th>min</th>\n",
       "      <td>1.001684e+07</td>\n",
       "      <td>20.000000</td>\n",
       "      <td>50075.000000</td>\n",
       "      <td>0.000000</td>\n",
       "    </tr>\n",
       "    <tr>\n",
       "      <th>25%</th>\n",
       "      <td>1.260593e+07</td>\n",
       "      <td>30.000000</td>\n",
       "      <td>76060.250000</td>\n",
       "      <td>0.000000</td>\n",
       "    </tr>\n",
       "    <tr>\n",
       "      <th>50%</th>\n",
       "      <td>1.509874e+07</td>\n",
       "      <td>40.000000</td>\n",
       "      <td>99205.000000</td>\n",
       "      <td>0.000000</td>\n",
       "    </tr>\n",
       "    <tr>\n",
       "      <th>75%</th>\n",
       "      <td>1.741296e+07</td>\n",
       "      <td>51.000000</td>\n",
       "      <td>122748.000000</td>\n",
       "      <td>1.000000</td>\n",
       "    </tr>\n",
       "    <tr>\n",
       "      <th>max</th>\n",
       "      <td>1.999616e+07</td>\n",
       "      <td>60.000000</td>\n",
       "      <td>149553.000000</td>\n",
       "      <td>1.000000</td>\n",
       "    </tr>\n",
       "  </tbody>\n",
       "</table>\n",
       "</div>"
      ],
      "text/plain": [
       "            User ID         Age  EstimatedSalary   Purchased\n",
       "count  4.000000e+02  400.000000       400.000000  400.000000\n",
       "mean   1.510090e+07   39.885000     99748.227500    0.357500\n",
       "std    2.862593e+06   11.796596     28374.358336    0.479864\n",
       "min    1.001684e+07   20.000000     50075.000000    0.000000\n",
       "25%    1.260593e+07   30.000000     76060.250000    0.000000\n",
       "50%    1.509874e+07   40.000000     99205.000000    0.000000\n",
       "75%    1.741296e+07   51.000000    122748.000000    1.000000\n",
       "max    1.999616e+07   60.000000    149553.000000    1.000000"
      ]
     },
     "metadata": {},
     "output_type": "display_data"
    }
   ],
   "source": [
    "# Discribe Data\n",
    "\n",
    "display(df1.describe())"
   ]
  },
  {
   "cell_type": "code",
   "execution_count": 7,
   "metadata": {
    "metadata": {}
   },
   "outputs": [
    {
     "name": "stdout",
     "output_type": "stream",
     "text": [
      "            User ID         Age  EstimatedSalary   Purchased\n",
      "count  4.000000e+02  400.000000       400.000000  400.000000\n",
      "mean   1.510090e+07   39.885000     99748.227500    0.357500\n",
      "std    2.862593e+06   11.796596     28374.358336    0.479864\n",
      "min    1.001684e+07   20.000000     50075.000000    0.000000\n",
      "25%    1.260593e+07   30.000000     76060.250000    0.000000\n",
      "50%    1.509874e+07   40.000000     99205.000000    0.000000\n",
      "75%    1.741296e+07   51.000000    122748.000000    1.000000\n",
      "max    1.999616e+07   60.000000    149553.000000    1.000000\n"
     ]
    }
   ],
   "source": [
    "print(df1.describe())"
   ]
  },
  {
   "cell_type": "code",
   "execution_count": 8,
   "metadata": {
    "metadata": {}
   },
   "outputs": [
    {
     "data": {
      "text/html": [
       "<div>\n",
       "<style scoped>\n",
       "    .dataframe tbody tr th:only-of-type {\n",
       "        vertical-align: middle;\n",
       "    }\n",
       "\n",
       "    .dataframe tbody tr th {\n",
       "        vertical-align: top;\n",
       "    }\n",
       "\n",
       "    .dataframe thead th {\n",
       "        text-align: right;\n",
       "    }\n",
       "</style>\n",
       "<table border=\"1\" class=\"dataframe\">\n",
       "  <thead>\n",
       "    <tr style=\"text-align: right;\">\n",
       "      <th></th>\n",
       "      <th>User ID</th>\n",
       "      <th>Gender</th>\n",
       "      <th>Age</th>\n",
       "      <th>EstimatedSalary</th>\n",
       "      <th>Purchased</th>\n",
       "    </tr>\n",
       "  </thead>\n",
       "  <tbody>\n",
       "    <tr>\n",
       "      <th>0</th>\n",
       "      <td>11021175</td>\n",
       "      <td>Male</td>\n",
       "      <td>42</td>\n",
       "      <td>121315</td>\n",
       "      <td>0</td>\n",
       "    </tr>\n",
       "    <tr>\n",
       "      <th>1</th>\n",
       "      <td>17782313</td>\n",
       "      <td>Male</td>\n",
       "      <td>53</td>\n",
       "      <td>67214</td>\n",
       "      <td>0</td>\n",
       "    </tr>\n",
       "    <tr>\n",
       "      <th>2</th>\n",
       "      <td>14603818</td>\n",
       "      <td>Female</td>\n",
       "      <td>59</td>\n",
       "      <td>111005</td>\n",
       "      <td>0</td>\n",
       "    </tr>\n",
       "    <tr>\n",
       "      <th>3</th>\n",
       "      <td>18188198</td>\n",
       "      <td>Female</td>\n",
       "      <td>39</td>\n",
       "      <td>53414</td>\n",
       "      <td>0</td>\n",
       "    </tr>\n",
       "    <tr>\n",
       "      <th>4</th>\n",
       "      <td>19357305</td>\n",
       "      <td>Male</td>\n",
       "      <td>39</td>\n",
       "      <td>114285</td>\n",
       "      <td>0</td>\n",
       "    </tr>\n",
       "    <tr>\n",
       "      <th>...</th>\n",
       "      <td>...</td>\n",
       "      <td>...</td>\n",
       "      <td>...</td>\n",
       "      <td>...</td>\n",
       "      <td>...</td>\n",
       "    </tr>\n",
       "    <tr>\n",
       "      <th>395</th>\n",
       "      <td>10220446</td>\n",
       "      <td>Female</td>\n",
       "      <td>20</td>\n",
       "      <td>141231</td>\n",
       "      <td>1</td>\n",
       "    </tr>\n",
       "    <tr>\n",
       "      <th>396</th>\n",
       "      <td>12387292</td>\n",
       "      <td>Male</td>\n",
       "      <td>50</td>\n",
       "      <td>75848</td>\n",
       "      <td>1</td>\n",
       "    </tr>\n",
       "    <tr>\n",
       "      <th>397</th>\n",
       "      <td>10715173</td>\n",
       "      <td>Female</td>\n",
       "      <td>25</td>\n",
       "      <td>82560</td>\n",
       "      <td>1</td>\n",
       "    </tr>\n",
       "    <tr>\n",
       "      <th>398</th>\n",
       "      <td>10016842</td>\n",
       "      <td>Male</td>\n",
       "      <td>55</td>\n",
       "      <td>147667</td>\n",
       "      <td>0</td>\n",
       "    </tr>\n",
       "    <tr>\n",
       "      <th>399</th>\n",
       "      <td>11699655</td>\n",
       "      <td>Female</td>\n",
       "      <td>54</td>\n",
       "      <td>134972</td>\n",
       "      <td>1</td>\n",
       "    </tr>\n",
       "  </tbody>\n",
       "</table>\n",
       "<p>400 rows × 5 columns</p>\n",
       "</div>"
      ],
      "text/plain": [
       "      User ID  Gender  Age  EstimatedSalary  Purchased\n",
       "0    11021175    Male   42           121315          0\n",
       "1    17782313    Male   53            67214          0\n",
       "2    14603818  Female   59           111005          0\n",
       "3    18188198  Female   39            53414          0\n",
       "4    19357305    Male   39           114285          0\n",
       "..        ...     ...  ...              ...        ...\n",
       "395  10220446  Female   20           141231          1\n",
       "396  12387292    Male   50            75848          1\n",
       "397  10715173  Female   25            82560          1\n",
       "398  10016842    Male   55           147667          0\n",
       "399  11699655  Female   54           134972          1\n",
       "\n",
       "[400 rows x 5 columns]"
      ]
     },
     "execution_count": 8,
     "metadata": {},
     "output_type": "execute_result"
    }
   ],
   "source": [
    "df1"
   ]
  },
  {
   "cell_type": "code",
   "execution_count": 9,
   "metadata": {
    "metadata": {}
   },
   "outputs": [
    {
     "data": {
      "text/html": [
       "<div>\n",
       "<style scoped>\n",
       "    .dataframe tbody tr th:only-of-type {\n",
       "        vertical-align: middle;\n",
       "    }\n",
       "\n",
       "    .dataframe tbody tr th {\n",
       "        vertical-align: top;\n",
       "    }\n",
       "\n",
       "    .dataframe thead th {\n",
       "        text-align: right;\n",
       "    }\n",
       "</style>\n",
       "<table border=\"1\" class=\"dataframe\">\n",
       "  <thead>\n",
       "    <tr style=\"text-align: right;\">\n",
       "      <th></th>\n",
       "      <th>User ID</th>\n",
       "      <th>Gender</th>\n",
       "      <th>Age</th>\n",
       "      <th>EstimatedSalary</th>\n",
       "      <th>Purchased</th>\n",
       "    </tr>\n",
       "  </thead>\n",
       "  <tbody>\n",
       "    <tr>\n",
       "      <th>0</th>\n",
       "      <td>11021175</td>\n",
       "      <td>Male</td>\n",
       "      <td>42</td>\n",
       "      <td>121315</td>\n",
       "      <td>0</td>\n",
       "    </tr>\n",
       "    <tr>\n",
       "      <th>1</th>\n",
       "      <td>17782313</td>\n",
       "      <td>Male</td>\n",
       "      <td>53</td>\n",
       "      <td>67214</td>\n",
       "      <td>0</td>\n",
       "    </tr>\n",
       "  </tbody>\n",
       "</table>\n",
       "</div>"
      ],
      "text/plain": [
       "    User ID Gender  Age  EstimatedSalary  Purchased\n",
       "0  11021175   Male   42           121315          0\n",
       "1  17782313   Male   53            67214          0"
      ]
     },
     "execution_count": 9,
     "metadata": {},
     "output_type": "execute_result"
    }
   ],
   "source": [
    "df1.head(2)"
   ]
  },
  {
   "cell_type": "code",
   "execution_count": 10,
   "metadata": {
    "metadata": {}
   },
   "outputs": [
    {
     "name": "stdout",
     "output_type": "stream",
     "text": [
      "[[    42 121315]\n",
      " [    53  67214]\n",
      " [    59 111005]\n",
      " [    39  53414]\n",
      " [    39 114285]\n",
      " [    39 107458]\n",
      " [    20  85582]\n",
      " [    59 148335]\n",
      " [    48  80579]\n",
      " [    42 114204]\n",
      " [    32  87786]\n",
      " [    49 113544]\n",
      " [    55  88300]\n",
      " [    54 147066]\n",
      " [    57 139622]\n",
      " [    41 134716]\n",
      " [    51 116333]\n",
      " [    55  72567]\n",
      " [    44 123254]\n",
      " [    47 113548]\n",
      " [    52  79343]\n",
      " [    20 106149]\n",
      " [    40  59674]\n",
      " [    52  76333]\n",
      " [    28 118742]\n",
      " [    22 105897]\n",
      " [    25 114815]\n",
      " [    38  85428]\n",
      " [    57 114005]\n",
      " [    57 133402]\n",
      " [    43 106726]\n",
      " [    35  84550]\n",
      " [    34  96296]\n",
      " [    32  68964]\n",
      " [    55  90946]\n",
      " [    48  51787]\n",
      " [    22  53940]\n",
      " [    42 138928]\n",
      " [    59 116474]\n",
      " [    23  97284]\n",
      " [    40 132951]\n",
      " [    24 119308]\n",
      " [    50 120675]\n",
      " [    41 113547]\n",
      " [    52 102686]\n",
      " [    34 140262]\n",
      " [    20  54075]\n",
      " [    25  63715]\n",
      " [    46  56058]\n",
      " [    58  65052]\n",
      " [    38  72107]\n",
      " [    21 108656]\n",
      " [    42 120639]\n",
      " [    31  68033]\n",
      " [    26  80283]\n",
      " [    47  60952]\n",
      " [    31 123137]\n",
      " [    36  98529]\n",
      " [    25 121301]\n",
      " [    28  61144]\n",
      " [    41 107405]\n",
      " [    32  87032]\n",
      " [    53 118544]\n",
      " [    38  63743]\n",
      " [    43  53404]\n",
      " [    34  88672]\n",
      " [    29  96164]\n",
      " [    47 123288]\n",
      " [    31 122623]\n",
      " [    31  78696]\n",
      " [    51 142525]\n",
      " [    59  87656]\n",
      " [    29 142587]\n",
      " [    25 136561]\n",
      " [    59 146860]\n",
      " [    60 142362]\n",
      " [    35  69596]\n",
      " [    26  68131]\n",
      " [    36 110448]\n",
      " [    23  83386]\n",
      " [    58 108578]\n",
      " [    30 141388]\n",
      " [    43 149365]\n",
      " [    56  58313]\n",
      " [    51 102619]\n",
      " [    28  55147]\n",
      " [    41  50075]\n",
      " [    34 107704]\n",
      " [    43 114836]\n",
      " [    47 121827]\n",
      " [    34  81442]\n",
      " [    34 107339]\n",
      " [    26 112221]\n",
      " [    45  95625]\n",
      " [    57 122153]\n",
      " [    51  95670]\n",
      " [    34 143045]\n",
      " [    59 137848]\n",
      " [    36  52183]\n",
      " [    36  79634]\n",
      " [    23 113567]\n",
      " [    54 141579]\n",
      " [    37  65595]\n",
      " [    36 112290]\n",
      " [    34  81496]\n",
      " [    50 149336]\n",
      " [    40  75308]\n",
      " [    52 100654]\n",
      " [    41 126711]\n",
      " [    40 108120]\n",
      " [    49 105753]\n",
      " [    20 136968]\n",
      " [    24  93042]\n",
      " [    28 123123]\n",
      " [    20  82371]\n",
      " [    23 124432]\n",
      " [    39  77263]\n",
      " [    42  74062]\n",
      " [    56  66914]\n",
      " [    20 135880]\n",
      " [    56 141015]\n",
      " [    47  56095]\n",
      " [    54 105953]\n",
      " [    31 134226]\n",
      " [    40 140382]\n",
      " [    52  83150]\n",
      " [    43 134224]\n",
      " [    45  56858]\n",
      " [    58  78749]\n",
      " [    30  85067]\n",
      " [    32 126056]\n",
      " [    25 113954]\n",
      " [    48  95856]\n",
      " [    33  97459]\n",
      " [    47 135037]\n",
      " [    26 119179]\n",
      " [    54 149039]\n",
      " [    45  82604]\n",
      " [    58 141603]\n",
      " [    54  78694]\n",
      " [    57 124533]\n",
      " [    50 131911]\n",
      " [    41  59001]\n",
      " [    46 121055]\n",
      " [    56 129867]\n",
      " [    29  92841]\n",
      " [    30  52952]\n",
      " [    37 110760]\n",
      " [    26 118184]\n",
      " [    33 112314]\n",
      " [    41  89916]\n",
      " [    30 121311]\n",
      " [    35  89632]\n",
      " [    45 100855]\n",
      " [    43  65553]\n",
      " [    54  53506]\n",
      " [    52  52428]\n",
      " [    58  82785]\n",
      " [    30  53649]\n",
      " [    22  87705]\n",
      " [    52  89220]\n",
      " [    46 144559]\n",
      " [    56 100871]\n",
      " [    25 144076]\n",
      " [    22  92835]\n",
      " [    42 143855]\n",
      " [    40 134666]\n",
      " [    58  60780]\n",
      " [    38  71907]\n",
      " [    53 117339]\n",
      " [    24  59930]\n",
      " [    45  81582]\n",
      " [    43 105079]\n",
      " [    54  89483]\n",
      " [    30 101011]\n",
      " [    24  63875]\n",
      " [    43  78367]\n",
      " [    34  98157]\n",
      " [    21  67195]\n",
      " [    27  60011]\n",
      " [    43  85692]\n",
      " [    31 122030]\n",
      " [    35 111404]\n",
      " [    51 112365]\n",
      " [    24 145116]\n",
      " [    53  84777]\n",
      " [    24 117799]\n",
      " [    49 123887]\n",
      " [    37 110617]\n",
      " [    39  66443]\n",
      " [    28  74078]\n",
      " [    34  53024]\n",
      " [    45  60629]\n",
      " [    38  96053]\n",
      " [    37 115700]\n",
      " [    32 149553]\n",
      " [    22  54897]\n",
      " [    57 106814]\n",
      " [    26  82215]\n",
      " [    34  97989]\n",
      " [    34 129656]\n",
      " [    48  54293]\n",
      " [    41 115121]\n",
      " [    47  58050]\n",
      " [    32 106526]\n",
      " [    31  66259]\n",
      " [    56 114193]\n",
      " [    32  93654]\n",
      " [    30  90905]\n",
      " [    32  87630]\n",
      " [    23  57412]\n",
      " [    35 138992]\n",
      " [    55  79423]\n",
      " [    23  58900]\n",
      " [    32  79811]\n",
      " [    42  73731]\n",
      " [    45  97845]\n",
      " [    46 124974]\n",
      " [    25 126831]\n",
      " [    29 129796]\n",
      " [    44 113742]\n",
      " [    46 140395]\n",
      " [    33  96753]\n",
      " [    25  73636]\n",
      " [    54 131776]\n",
      " [    53 115173]\n",
      " [    23 132989]\n",
      " [    55  78749]\n",
      " [    26 114306]\n",
      " [    29 144160]\n",
      " [    59  73810]\n",
      " [    45  69716]\n",
      " [    52 103076]\n",
      " [    31 120701]\n",
      " [    43  88766]\n",
      " [    51 145365]\n",
      " [    39 100402]\n",
      " [    33 133440]\n",
      " [    28  79496]\n",
      " [    42  59216]\n",
      " [    23  59666]\n",
      " [    28  96148]\n",
      " [    57 104693]\n",
      " [    38 125226]\n",
      " [    25  64832]\n",
      " [    44 147276]\n",
      " [    36  51894]\n",
      " [    46  87539]\n",
      " [    44 123166]\n",
      " [    58  80730]\n",
      " [    52  61880]\n",
      " [    55  55940]\n",
      " [    36  83172]\n",
      " [    57  62224]\n",
      " [    29  85752]\n",
      " [    21  92044]\n",
      " [    58 114689]\n",
      " [    25  75753]\n",
      " [    39 147108]\n",
      " [    27 116149]\n",
      " [    41  76066]\n",
      " [    28 139815]\n",
      " [    51  89365]\n",
      " [    30  96984]\n",
      " [    45  83469]\n",
      " [    43 123902]\n",
      " [    31 103674]\n",
      " [    25 149284]\n",
      " [    55 101685]\n",
      " [    29  84375]\n",
      " [    59  80400]\n",
      " [    35 116617]\n",
      " [    48  63697]\n",
      " [    23 125328]\n",
      " [    31 115264]\n",
      " [    22  52203]\n",
      " [    55  79300]\n",
      " [    24 118146]\n",
      " [    45 118915]\n",
      " [    32 145807]\n",
      " [    25  89964]\n",
      " [    57 100193]\n",
      " [    59  51243]\n",
      " [    59  96999]\n",
      " [    51 120749]\n",
      " [    47  90983]\n",
      " [    38  66879]\n",
      " [    59  56930]\n",
      " [    60  74753]\n",
      " [    24 142544]\n",
      " [    56  71895]\n",
      " [    39 138840]\n",
      " [    36  73233]\n",
      " [    37 144858]\n",
      " [    37 137622]\n",
      " [    20  61919]\n",
      " [    59  83724]\n",
      " [    50 114793]\n",
      " [    51 117179]\n",
      " [    60  64051]\n",
      " [    35  56687]\n",
      " [    57 101429]\n",
      " [    43  74931]\n",
      " [    27  71384]\n",
      " [    30 130926]\n",
      " [    22 111072]\n",
      " [    57 137143]\n",
      " [    37  65536]\n",
      " [    25  89304]\n",
      " [    23 140900]\n",
      " [    50 136552]\n",
      " [    54  75491]\n",
      " [    52  71429]\n",
      " [    59  81753]\n",
      " [    44  95919]\n",
      " [    47 108041]\n",
      " [    29  83561]\n",
      " [    47 118252]\n",
      " [    52  74847]\n",
      " [    25  58866]\n",
      " [    38  64972]\n",
      " [    20  64957]\n",
      " [    22 111361]\n",
      " [    43  91205]\n",
      " [    41  65781]\n",
      " [    32 126318]\n",
      " [    23 140167]\n",
      " [    28  94239]\n",
      " [    52 125189]\n",
      " [    52  63103]\n",
      " [    40 107099]\n",
      " [    49  59438]\n",
      " [    36 134882]\n",
      " [    28  58789]\n",
      " [    37 145025]\n",
      " [    22 146149]\n",
      " [    31 127446]\n",
      " [    39  83401]\n",
      " [    21 123460]\n",
      " [    51  64207]\n",
      " [    49 128666]\n",
      " [    48 120137]\n",
      " [    28  80299]\n",
      " [    30 104548]\n",
      " [    24 138809]\n",
      " [    42 130324]\n",
      " [    59 139963]\n",
      " [    60  72905]\n",
      " [    51  52093]\n",
      " [    36 119778]\n",
      " [    33  86617]\n",
      " [    29  69997]\n",
      " [    21  89174]\n",
      " [    44 143222]\n",
      " [    29 130705]\n",
      " [    59  80220]\n",
      " [    28 119752]\n",
      " [    21  76043]\n",
      " [    44 145967]\n",
      " [    25  79824]\n",
      " [    43  89982]\n",
      " [    46 147530]\n",
      " [    36  60575]\n",
      " [    43  78098]\n",
      " [    55  81409]\n",
      " [    28  70948]\n",
      " [    50 104297]\n",
      " [    48 127871]\n",
      " [    33 126297]\n",
      " [    24 110968]\n",
      " [    53  91670]\n",
      " [    39  91484]\n",
      " [    38  79015]\n",
      " [    47 105738]\n",
      " [    60 149376]\n",
      " [    32 132339]\n",
      " [    55  65263]\n",
      " [    43 121151]\n",
      " [    55 143658]\n",
      " [    39 107871]\n",
      " [    35  88727]\n",
      " [    55  78055]\n",
      " [    36  58593]\n",
      " [    27  62004]\n",
      " [    51  99881]\n",
      " [    42  72411]\n",
      " [    47  91721]\n",
      " [    34 140775]\n",
      " [    35  79146]\n",
      " [    58 128623]\n",
      " [    25 128311]\n",
      " [    23  72896]\n",
      " [    57 115969]\n",
      " [    28 111173]\n",
      " [    41 107820]\n",
      " [    20 141231]\n",
      " [    50  75848]\n",
      " [    25  82560]\n",
      " [    55 147667]\n",
      " [    54 134972]]\n"
     ]
    }
   ],
   "source": [
    "# Independent Variable X (Age and Estimated Salary)\n",
    "\n",
    "x=df1.iloc[:,2:4].values\n",
    "print(x)"
   ]
  },
  {
   "cell_type": "code",
   "execution_count": 11,
   "metadata": {
    "metadata": {}
   },
   "outputs": [
    {
     "name": "stdout",
     "output_type": "stream",
     "text": [
      "[0 0 0 0 0 0 0 1 0 0 0 0 0 0 0 0 1 1 1 1 1 1 1 1 1 1 1 1 0 0 0 1 0 0 0 0 0\n",
      " 0 0 0 0 0 0 0 0 0 0 0 1 0 0 0 0 0 0 0 0 0 0 0 0 0 0 1 0 0 0 0 0 0 0 0 0 0\n",
      " 0 1 0 0 0 0 0 0 0 0 0 1 0 0 0 0 0 0 0 0 0 0 0 1 0 0 0 0 0 1 0 0 0 0 0 0 0\n",
      " 0 0 0 0 0 0 0 0 0 0 0 0 0 0 0 0 0 0 0 0 0 0 0 0 0 0 1 0 0 0 0 0 0 0 0 1 0\n",
      " 0 0 0 0 0 0 0 0 0 0 0 1 1 0 0 0 0 0 0 0 1 0 0 0 0 0 0 0 0 0 0 0 0 0 1 0 0\n",
      " 0 0 0 0 0 0 0 0 0 0 0 0 0 0 0 0 0 1 0 1 0 1 0 1 0 1 1 0 0 0 1 0 0 0 1 0 1\n",
      " 1 1 0 0 1 1 0 1 1 0 1 1 0 1 0 0 0 1 1 0 1 1 0 1 0 1 0 1 0 0 1 1 0 1 0 0 1\n",
      " 1 0 1 1 0 1 1 0 0 1 0 0 1 1 1 1 1 0 1 1 1 1 0 1 1 0 1 0 1 0 1 1 1 1 0 0 0\n",
      " 1 1 0 1 1 1 1 1 0 0 0 1 1 0 0 1 0 1 0 1 1 0 1 0 1 1 0 1 1 0 0 0 1 1 0 1 0\n",
      " 0 1 0 1 0 0 1 1 0 0 1 1 0 1 1 0 0 1 0 1 0 1 1 1 0 1 0 1 1 1 0 1 1 1 1 0 1\n",
      " 1 1 0 1 0 1 0 0 1 1 0 1 1 1 1 1 1 0 1 1 1 1 1 1 0 1 1 1 0 1]\n"
     ]
    }
   ],
   "source": [
    "y=df1.iloc[:,4].values\n",
    "print(y)"
   ]
  },
  {
   "cell_type": "code",
   "execution_count": 12,
   "metadata": {
    "metadata": {}
   },
   "outputs": [
    {
     "data": {
      "image/png": "[encoded data removed]",
      "text/plain": [
       "<Figure size 640x480 with 1 Axes>"
      ]
     },
     "metadata": {},
     "output_type": "display_data"
    }
   ],
   "source": [
    "# Plot the Graph \n",
    "plt.scatter(x[y==0,0],x[y==0,1],s=100,c='r',label='Cluster 1')\n",
    "plt.scatter(x[y==1,0],x[y==1,1],s=100,c='b',label='Cluster 2')\n",
    "plt.legend()\n",
    "plt.show()"
   ]
  },
  {
   "cell_type": "code",
   "execution_count": 13,
   "metadata": {
    "metadata": {}
   },
   "outputs": [
    {
     "data": {
      "text/plain": [
       "array([42, 53, 59, 39, 39, 39, 20, 48, 42, 32, 49, 55, 54, 57, 41, 57, 57,\n",
       "       43, 34, 32, 55, 48, 22, 42, 59, 23, 40, 24, 50, 41, 52, 34, 20, 25,\n",
       "       58, 38, 21, 42, 31, 26, 47, 31, 36, 25, 28, 41, 32, 53, 43, 34, 29,\n",
       "       47, 31, 31, 51, 59, 29, 25, 59, 35, 26, 36, 23, 58, 30, 43, 56, 51,\n",
       "       41, 34, 43, 47, 34, 34, 26, 45, 57, 51, 34, 36, 36, 23, 54, 37, 34,\n",
       "       50, 40, 52, 41, 40, 49, 20, 24, 28, 20, 23, 39, 42, 56, 20, 56, 47,\n",
       "       54, 31, 40, 52, 43, 45, 58, 30, 32, 25, 48, 33, 47, 26, 54, 58, 54,\n",
       "       57, 50, 41, 46, 56, 29, 37, 26, 33, 41, 30, 35, 45, 43, 54, 52, 58,\n",
       "       30, 46, 56, 25, 22, 42, 40, 58, 53, 24, 45, 43, 54, 30, 24, 43, 34,\n",
       "       21, 27, 43, 31, 51, 24, 53, 24, 49, 37, 39, 28, 34, 45, 38, 37, 32,\n",
       "       22, 57, 26, 34, 34, 48, 47, 31, 32, 32, 55, 23, 32, 45, 46, 25, 44,\n",
       "       54, 53, 26, 45, 43, 39, 33, 28, 28, 25, 36, 44, 52, 55, 29, 58, 25,\n",
       "       41, 30, 31, 25, 29, 59, 55, 57, 51, 38, 60, 37, 37, 20, 51, 30, 22,\n",
       "       57, 23, 50, 52, 44, 47, 25, 22, 32, 23, 28, 40, 36, 28, 22, 39, 21,\n",
       "       48, 28, 42, 51, 36, 29, 44, 21, 25, 43, 33, 38, 60, 55, 43, 35, 34,\n",
       "       41, 55], dtype=int64)"
      ]
     },
     "execution_count": 13,
     "metadata": {},
     "output_type": "execute_result"
    }
   ],
   "source": [
    "x[y==0,0]"
   ]
  },
  {
   "cell_type": "code",
   "execution_count": 14,
   "metadata": {
    "metadata": {}
   },
   "outputs": [
    {
     "data": {
      "text/plain": [
       "257"
      ]
     },
     "execution_count": 14,
     "metadata": {},
     "output_type": "execute_result"
    }
   ],
   "source": [
    "len(x[y==0,0])"
   ]
  },
  {
   "cell_type": "code",
   "execution_count": 15,
   "metadata": {
    "metadata": {}
   },
   "outputs": [
    {
     "data": {
      "text/plain": [
       "array([121315,  67214, 111005,  53414, 114285, 107458,  85582,  80579,\n",
       "       114204,  87786, 113544,  88300, 147066, 139622, 134716, 114005,\n",
       "       133402, 106726,  96296,  68964,  90946,  51787,  53940, 138928,\n",
       "       116474,  97284, 132951, 119308, 120675, 113547, 102686, 140262,\n",
       "        54075,  63715,  65052,  72107, 108656, 120639,  68033,  80283,\n",
       "        60952, 123137,  98529, 121301,  61144, 107405,  87032, 118544,\n",
       "        53404,  88672,  96164, 123288, 122623,  78696, 142525,  87656,\n",
       "       142587, 136561, 146860,  69596,  68131, 110448,  83386, 108578,\n",
       "       141388, 149365,  58313, 102619,  50075, 107704, 114836, 121827,\n",
       "        81442, 107339, 112221,  95625, 122153,  95670, 143045,  52183,\n",
       "        79634, 113567, 141579,  65595,  81496, 149336,  75308, 100654,\n",
       "       126711, 108120, 105753, 136968,  93042, 123123,  82371, 124432,\n",
       "        77263,  74062,  66914, 135880, 141015,  56095, 105953, 134226,\n",
       "       140382,  83150, 134224,  56858,  78749,  85067, 126056, 113954,\n",
       "        95856,  97459, 135037, 119179, 149039, 141603,  78694, 124533,\n",
       "       131911,  59001, 121055, 129867,  92841, 110760, 118184, 112314,\n",
       "        89916, 121311,  89632, 100855,  65553,  53506,  52428,  82785,\n",
       "        53649, 144559, 100871, 144076,  92835, 143855, 134666,  60780,\n",
       "       117339,  59930,  81582, 105079,  89483, 101011,  63875,  78367,\n",
       "        98157,  67195,  60011,  85692, 122030, 112365, 145116,  84777,\n",
       "       117799, 123887, 110617,  66443,  74078,  53024,  60629,  96053,\n",
       "       115700, 149553,  54897, 106814,  82215,  97989, 129656,  54293,\n",
       "        58050,  66259,  93654,  87630,  79423,  58900,  79811,  97845,\n",
       "       124974, 126831, 113742, 131776, 115173, 114306,  69716,  88766,\n",
       "       100402, 133440,  79496,  96148,  64832,  51894, 123166,  61880,\n",
       "        55940,  85752, 114689,  75753,  76066,  96984, 103674, 149284,\n",
       "        84375,  80400,  79300, 100193, 120749,  66879,  74753, 144858,\n",
       "       137622,  61919, 117179, 130926, 111072, 137143, 140900, 136552,\n",
       "        71429,  95919, 118252,  58866, 111361, 126318, 140167,  94239,\n",
       "       107099, 134882,  58789, 146149,  83401, 123460, 120137,  80299,\n",
       "       130324,  52093, 119778,  69997, 143222,  76043,  79824,  78098,\n",
       "       126297,  79015, 149376,  65263, 121151,  88727, 140775, 107820,\n",
       "       147667], dtype=int64)"
      ]
     },
     "execution_count": 15,
     "metadata": {},
     "output_type": "execute_result"
    }
   ],
   "source": [
    "x[y==0,1]"
   ]
  },
  {
   "cell_type": "code",
   "execution_count": 16,
   "metadata": {
    "metadata": {}
   },
   "outputs": [
    {
     "data": {
      "text/plain": [
       "array([59, 51, 55, 44, 47, 52, 20, 40, 52, 28, 22, 25, 38, 35, 46, 38, 60,\n",
       "       28, 59, 36, 45, 30, 22, 52, 38, 35, 41, 32, 56, 30, 23, 35, 42, 29,\n",
       "       46, 33, 25, 23, 55, 29, 59, 52, 31, 51, 42, 23, 57, 38, 44, 46, 58,\n",
       "       36, 57, 21, 39, 27, 28, 51, 45, 43, 55, 35, 48, 23, 31, 22, 24, 45,\n",
       "       32, 25, 59, 59, 47, 59, 24, 56, 39, 36, 59, 50, 60, 35, 57, 43, 27,\n",
       "       37, 25, 54, 59, 47, 29, 52, 38, 20, 43, 41, 52, 52, 49, 37, 31, 51,\n",
       "       49, 30, 24, 59, 60, 33, 21, 29, 59, 28, 44, 43, 46, 36, 55, 28, 50,\n",
       "       48, 24, 53, 39, 47, 32, 55, 39, 55, 36, 27, 51, 42, 47, 35, 58, 25,\n",
       "       23, 57, 28, 20, 50, 25, 54], dtype=int64)"
      ]
     },
     "execution_count": 16,
     "metadata": {},
     "output_type": "execute_result"
    }
   ],
   "source": [
    "x[y==1,0]"
   ]
  },
  {
   "cell_type": "code",
   "execution_count": 17,
   "metadata": {
    "metadata": {}
   },
   "outputs": [
    {
     "data": {
      "text/plain": [
       "array([148335, 116333,  72567, 123254, 113548,  79343, 106149,  59674,\n",
       "        76333, 118742, 105897, 114815,  85428,  84550,  56058,  63743,\n",
       "       142362,  55147, 137848, 112290,  82604,  52952,  87705,  89220,\n",
       "        71907, 111404, 115121, 106526, 114193,  90905,  57412, 138992,\n",
       "        73731, 129796, 140395,  96753,  73636, 132989,  78749, 144160,\n",
       "        73810, 103076, 120701, 145365,  59216,  59666, 104693, 125226,\n",
       "       147276,  87539,  80730,  83172,  62224,  92044, 147108, 116149,\n",
       "       139815,  89365,  83469, 123902, 101685, 116617,  63697, 125328,\n",
       "       115264,  52203, 118146, 118915, 145807,  89964,  51243,  96999,\n",
       "        90983,  56930, 142544,  71895, 138840,  73233,  83724, 114793,\n",
       "        64051,  56687, 101429,  74931,  71384,  65536,  89304,  75491,\n",
       "        81753, 108041,  83561,  74847,  64972,  64957,  91205,  65781,\n",
       "       125189,  63103,  59438, 145025, 127446,  64207, 128666, 104548,\n",
       "       138809, 139963,  72905,  86617,  89174, 130705,  80220, 119752,\n",
       "       145967,  89982, 147530,  60575,  81409,  70948, 104297, 127871,\n",
       "       110968,  91670,  91484, 105738, 132339, 143658, 107871,  78055,\n",
       "        58593,  62004,  99881,  72411,  91721,  79146, 128623, 128311,\n",
       "        72896, 115969, 111173, 141231,  75848,  82560, 134972],\n",
       "      dtype=int64)"
      ]
     },
     "execution_count": 17,
     "metadata": {},
     "output_type": "execute_result"
    }
   ],
   "source": [
    "x[y==1,1]"
   ]
  },
  {
   "cell_type": "code",
   "execution_count": 18,
   "metadata": {
    "metadata": {}
   },
   "outputs": [
    {
     "data": {
      "text/plain": [
       "<matplotlib.legend.Legend at 0x24af151b310>"
      ]
     },
     "execution_count": 18,
     "metadata": {},
     "output_type": "execute_result"
    },
    {
     "data": {
      "image/png": "[encoded data removed]",
      "text/plain": [
       "<Figure size 640x480 with 1 Axes>"
      ]
     },
     "metadata": {},
     "output_type": "display_data"
    }
   ],
   "source": [
    "\n",
    "plt.scatter(x[y==0,0],x[y==0,1],s=100,c='r',label='Cluster 1')\n",
    "plt.legend()"
   ]
  },
  {
   "cell_type": "code",
   "execution_count": 19,
   "metadata": {
    "metadata": {}
   },
   "outputs": [
    {
     "data": {
      "text/plain": [
       "<matplotlib.legend.Legend at 0x24af17f7dd0>"
      ]
     },
     "execution_count": 19,
     "metadata": {},
     "output_type": "execute_result"
    },
    {
     "data": {
      "image/png": "[encoded data removed]",
      "text/plain": [
       "<Figure size 640x480 with 1 Axes>"
      ]
     },
     "metadata": {},
     "output_type": "display_data"
    }
   ],
   "source": [
    "\n",
    "plt.scatter(x[y==1,0],x[y==1,1],s=100,c='b',label='CLuster 2')\n",
    "plt.legend()"
   ]
  },
  {
   "cell_type": "code",
   "execution_count": 20,
   "metadata": {
    "metadata": {}
   },
   "outputs": [
    {
     "data": {
      "text/plain": [
       "<matplotlib.legend.Legend at 0x24af159b810>"
      ]
     },
     "execution_count": 20,
     "metadata": {},
     "output_type": "execute_result"
    },
    {
     "data": {
      "image/png": "[encoded data removed]",
      "text/plain": [
       "<Figure size 640x480 with 1 Axes>"
      ]
     },
     "metadata": {},
     "output_type": "display_data"
    }
   ],
   "source": [
    "plt.scatter(x[y==0,0],x[y==0,1],s=20,c='r',label='Cluster 1')\n",
    "plt.legend()"
   ]
  },
  {
   "cell_type": "code",
   "execution_count": 21,
   "metadata": {
    "metadata": {}
   },
   "outputs": [
    {
     "data": {
      "text/plain": [
       "array([[    42, 121315],\n",
       "       [    53,  67214],\n",
       "       [    59, 111005],\n",
       "       [    39,  53414],\n",
       "       [    39, 114285],\n",
       "       [    39, 107458],\n",
       "       [    20,  85582],\n",
       "       [    59, 148335],\n",
       "       [    48,  80579],\n",
       "       [    42, 114204],\n",
       "       [    32,  87786],\n",
       "       [    49, 113544],\n",
       "       [    55,  88300],\n",
       "       [    54, 147066],\n",
       "       [    57, 139622],\n",
       "       [    41, 134716],\n",
       "       [    51, 116333],\n",
       "       [    55,  72567],\n",
       "       [    44, 123254],\n",
       "       [    47, 113548],\n",
       "       [    52,  79343],\n",
       "       [    20, 106149],\n",
       "       [    40,  59674],\n",
       "       [    52,  76333],\n",
       "       [    28, 118742],\n",
       "       [    22, 105897],\n",
       "       [    25, 114815],\n",
       "       [    38,  85428],\n",
       "       [    57, 114005],\n",
       "       [    57, 133402],\n",
       "       [    43, 106726],\n",
       "       [    35,  84550],\n",
       "       [    34,  96296],\n",
       "       [    32,  68964],\n",
       "       [    55,  90946],\n",
       "       [    48,  51787],\n",
       "       [    22,  53940],\n",
       "       [    42, 138928],\n",
       "       [    59, 116474],\n",
       "       [    23,  97284],\n",
       "       [    40, 132951],\n",
       "       [    24, 119308],\n",
       "       [    50, 120675],\n",
       "       [    41, 113547],\n",
       "       [    52, 102686],\n",
       "       [    34, 140262],\n",
       "       [    20,  54075],\n",
       "       [    25,  63715],\n",
       "       [    46,  56058],\n",
       "       [    58,  65052],\n",
       "       [    38,  72107],\n",
       "       [    21, 108656],\n",
       "       [    42, 120639],\n",
       "       [    31,  68033],\n",
       "       [    26,  80283],\n",
       "       [    47,  60952],\n",
       "       [    31, 123137],\n",
       "       [    36,  98529],\n",
       "       [    25, 121301],\n",
       "       [    28,  61144],\n",
       "       [    41, 107405],\n",
       "       [    32,  87032],\n",
       "       [    53, 118544],\n",
       "       [    38,  63743],\n",
       "       [    43,  53404],\n",
       "       [    34,  88672],\n",
       "       [    29,  96164],\n",
       "       [    47, 123288],\n",
       "       [    31, 122623],\n",
       "       [    31,  78696],\n",
       "       [    51, 142525],\n",
       "       [    59,  87656],\n",
       "       [    29, 142587],\n",
       "       [    25, 136561],\n",
       "       [    59, 146860],\n",
       "       [    60, 142362],\n",
       "       [    35,  69596],\n",
       "       [    26,  68131],\n",
       "       [    36, 110448],\n",
       "       [    23,  83386],\n",
       "       [    58, 108578],\n",
       "       [    30, 141388],\n",
       "       [    43, 149365],\n",
       "       [    56,  58313],\n",
       "       [    51, 102619],\n",
       "       [    28,  55147],\n",
       "       [    41,  50075],\n",
       "       [    34, 107704],\n",
       "       [    43, 114836],\n",
       "       [    47, 121827],\n",
       "       [    34,  81442],\n",
       "       [    34, 107339],\n",
       "       [    26, 112221],\n",
       "       [    45,  95625],\n",
       "       [    57, 122153],\n",
       "       [    51,  95670],\n",
       "       [    34, 143045],\n",
       "       [    59, 137848],\n",
       "       [    36,  52183],\n",
       "       [    36,  79634],\n",
       "       [    23, 113567],\n",
       "       [    54, 141579],\n",
       "       [    37,  65595],\n",
       "       [    36, 112290],\n",
       "       [    34,  81496],\n",
       "       [    50, 149336],\n",
       "       [    40,  75308],\n",
       "       [    52, 100654],\n",
       "       [    41, 126711],\n",
       "       [    40, 108120],\n",
       "       [    49, 105753],\n",
       "       [    20, 136968],\n",
       "       [    24,  93042],\n",
       "       [    28, 123123],\n",
       "       [    20,  82371],\n",
       "       [    23, 124432],\n",
       "       [    39,  77263],\n",
       "       [    42,  74062],\n",
       "       [    56,  66914],\n",
       "       [    20, 135880],\n",
       "       [    56, 141015],\n",
       "       [    47,  56095],\n",
       "       [    54, 105953],\n",
       "       [    31, 134226],\n",
       "       [    40, 140382],\n",
       "       [    52,  83150],\n",
       "       [    43, 134224],\n",
       "       [    45,  56858],\n",
       "       [    58,  78749],\n",
       "       [    30,  85067],\n",
       "       [    32, 126056],\n",
       "       [    25, 113954],\n",
       "       [    48,  95856],\n",
       "       [    33,  97459],\n",
       "       [    47, 135037],\n",
       "       [    26, 119179],\n",
       "       [    54, 149039],\n",
       "       [    45,  82604],\n",
       "       [    58, 141603],\n",
       "       [    54,  78694],\n",
       "       [    57, 124533],\n",
       "       [    50, 131911],\n",
       "       [    41,  59001],\n",
       "       [    46, 121055],\n",
       "       [    56, 129867],\n",
       "       [    29,  92841],\n",
       "       [    30,  52952],\n",
       "       [    37, 110760],\n",
       "       [    26, 118184],\n",
       "       [    33, 112314],\n",
       "       [    41,  89916],\n",
       "       [    30, 121311],\n",
       "       [    35,  89632],\n",
       "       [    45, 100855],\n",
       "       [    43,  65553],\n",
       "       [    54,  53506],\n",
       "       [    52,  52428],\n",
       "       [    58,  82785],\n",
       "       [    30,  53649],\n",
       "       [    22,  87705],\n",
       "       [    52,  89220],\n",
       "       [    46, 144559],\n",
       "       [    56, 100871],\n",
       "       [    25, 144076],\n",
       "       [    22,  92835],\n",
       "       [    42, 143855],\n",
       "       [    40, 134666],\n",
       "       [    58,  60780],\n",
       "       [    38,  71907],\n",
       "       [    53, 117339],\n",
       "       [    24,  59930],\n",
       "       [    45,  81582],\n",
       "       [    43, 105079],\n",
       "       [    54,  89483],\n",
       "       [    30, 101011],\n",
       "       [    24,  63875],\n",
       "       [    43,  78367],\n",
       "       [    34,  98157],\n",
       "       [    21,  67195],\n",
       "       [    27,  60011],\n",
       "       [    43,  85692],\n",
       "       [    31, 122030],\n",
       "       [    35, 111404],\n",
       "       [    51, 112365],\n",
       "       [    24, 145116],\n",
       "       [    53,  84777],\n",
       "       [    24, 117799],\n",
       "       [    49, 123887],\n",
       "       [    37, 110617],\n",
       "       [    39,  66443],\n",
       "       [    28,  74078],\n",
       "       [    34,  53024],\n",
       "       [    45,  60629],\n",
       "       [    38,  96053],\n",
       "       [    37, 115700],\n",
       "       [    32, 149553],\n",
       "       [    22,  54897],\n",
       "       [    57, 106814],\n",
       "       [    26,  82215],\n",
       "       [    34,  97989],\n",
       "       [    34, 129656],\n",
       "       [    48,  54293],\n",
       "       [    41, 115121],\n",
       "       [    47,  58050],\n",
       "       [    32, 106526],\n",
       "       [    31,  66259],\n",
       "       [    56, 114193],\n",
       "       [    32,  93654],\n",
       "       [    30,  90905],\n",
       "       [    32,  87630],\n",
       "       [    23,  57412],\n",
       "       [    35, 138992],\n",
       "       [    55,  79423],\n",
       "       [    23,  58900],\n",
       "       [    32,  79811],\n",
       "       [    42,  73731],\n",
       "       [    45,  97845],\n",
       "       [    46, 124974],\n",
       "       [    25, 126831],\n",
       "       [    29, 129796],\n",
       "       [    44, 113742],\n",
       "       [    46, 140395],\n",
       "       [    33,  96753],\n",
       "       [    25,  73636],\n",
       "       [    54, 131776],\n",
       "       [    53, 115173],\n",
       "       [    23, 132989],\n",
       "       [    55,  78749],\n",
       "       [    26, 114306],\n",
       "       [    29, 144160],\n",
       "       [    59,  73810],\n",
       "       [    45,  69716],\n",
       "       [    52, 103076],\n",
       "       [    31, 120701],\n",
       "       [    43,  88766],\n",
       "       [    51, 145365],\n",
       "       [    39, 100402],\n",
       "       [    33, 133440],\n",
       "       [    28,  79496],\n",
       "       [    42,  59216],\n",
       "       [    23,  59666],\n",
       "       [    28,  96148],\n",
       "       [    57, 104693],\n",
       "       [    38, 125226],\n",
       "       [    25,  64832],\n",
       "       [    44, 147276],\n",
       "       [    36,  51894],\n",
       "       [    46,  87539],\n",
       "       [    44, 123166],\n",
       "       [    58,  80730],\n",
       "       [    52,  61880],\n",
       "       [    55,  55940],\n",
       "       [    36,  83172],\n",
       "       [    57,  62224],\n",
       "       [    29,  85752],\n",
       "       [    21,  92044],\n",
       "       [    58, 114689],\n",
       "       [    25,  75753],\n",
       "       [    39, 147108],\n",
       "       [    27, 116149],\n",
       "       [    41,  76066],\n",
       "       [    28, 139815],\n",
       "       [    51,  89365],\n",
       "       [    30,  96984],\n",
       "       [    45,  83469],\n",
       "       [    43, 123902],\n",
       "       [    31, 103674],\n",
       "       [    25, 149284],\n",
       "       [    55, 101685],\n",
       "       [    29,  84375],\n",
       "       [    59,  80400],\n",
       "       [    35, 116617],\n",
       "       [    48,  63697],\n",
       "       [    23, 125328],\n",
       "       [    31, 115264],\n",
       "       [    22,  52203],\n",
       "       [    55,  79300],\n",
       "       [    24, 118146],\n",
       "       [    45, 118915],\n",
       "       [    32, 145807],\n",
       "       [    25,  89964],\n",
       "       [    57, 100193],\n",
       "       [    59,  51243],\n",
       "       [    59,  96999],\n",
       "       [    51, 120749],\n",
       "       [    47,  90983],\n",
       "       [    38,  66879],\n",
       "       [    59,  56930],\n",
       "       [    60,  74753],\n",
       "       [    24, 142544],\n",
       "       [    56,  71895],\n",
       "       [    39, 138840],\n",
       "       [    36,  73233],\n",
       "       [    37, 144858],\n",
       "       [    37, 137622],\n",
       "       [    20,  61919],\n",
       "       [    59,  83724],\n",
       "       [    50, 114793],\n",
       "       [    51, 117179],\n",
       "       [    60,  64051],\n",
       "       [    35,  56687],\n",
       "       [    57, 101429],\n",
       "       [    43,  74931],\n",
       "       [    27,  71384],\n",
       "       [    30, 130926],\n",
       "       [    22, 111072],\n",
       "       [    57, 137143],\n",
       "       [    37,  65536],\n",
       "       [    25,  89304],\n",
       "       [    23, 140900],\n",
       "       [    50, 136552],\n",
       "       [    54,  75491],\n",
       "       [    52,  71429],\n",
       "       [    59,  81753],\n",
       "       [    44,  95919],\n",
       "       [    47, 108041],\n",
       "       [    29,  83561],\n",
       "       [    47, 118252],\n",
       "       [    52,  74847],\n",
       "       [    25,  58866],\n",
       "       [    38,  64972],\n",
       "       [    20,  64957],\n",
       "       [    22, 111361],\n",
       "       [    43,  91205],\n",
       "       [    41,  65781],\n",
       "       [    32, 126318],\n",
       "       [    23, 140167],\n",
       "       [    28,  94239],\n",
       "       [    52, 125189],\n",
       "       [    52,  63103],\n",
       "       [    40, 107099],\n",
       "       [    49,  59438],\n",
       "       [    36, 134882],\n",
       "       [    28,  58789],\n",
       "       [    37, 145025],\n",
       "       [    22, 146149],\n",
       "       [    31, 127446],\n",
       "       [    39,  83401],\n",
       "       [    21, 123460],\n",
       "       [    51,  64207],\n",
       "       [    49, 128666],\n",
       "       [    48, 120137],\n",
       "       [    28,  80299],\n",
       "       [    30, 104548],\n",
       "       [    24, 138809],\n",
       "       [    42, 130324],\n",
       "       [    59, 139963],\n",
       "       [    60,  72905],\n",
       "       [    51,  52093],\n",
       "       [    36, 119778],\n",
       "       [    33,  86617],\n",
       "       [    29,  69997],\n",
       "       [    21,  89174],\n",
       "       [    44, 143222],\n",
       "       [    29, 130705],\n",
       "       [    59,  80220],\n",
       "       [    28, 119752],\n",
       "       [    21,  76043],\n",
       "       [    44, 145967],\n",
       "       [    25,  79824],\n",
       "       [    43,  89982],\n",
       "       [    46, 147530],\n",
       "       [    36,  60575],\n",
       "       [    43,  78098],\n",
       "       [    55,  81409],\n",
       "       [    28,  70948],\n",
       "       [    50, 104297],\n",
       "       [    48, 127871],\n",
       "       [    33, 126297],\n",
       "       [    24, 110968],\n",
       "       [    53,  91670],\n",
       "       [    39,  91484],\n",
       "       [    38,  79015],\n",
       "       [    47, 105738],\n",
       "       [    60, 149376],\n",
       "       [    32, 132339],\n",
       "       [    55,  65263],\n",
       "       [    43, 121151],\n",
       "       [    55, 143658],\n",
       "       [    39, 107871],\n",
       "       [    35,  88727],\n",
       "       [    55,  78055],\n",
       "       [    36,  58593],\n",
       "       [    27,  62004],\n",
       "       [    51,  99881],\n",
       "       [    42,  72411],\n",
       "       [    47,  91721],\n",
       "       [    34, 140775],\n",
       "       [    35,  79146],\n",
       "       [    58, 128623],\n",
       "       [    25, 128311],\n",
       "       [    23,  72896],\n",
       "       [    57, 115969],\n",
       "       [    28, 111173],\n",
       "       [    41, 107820],\n",
       "       [    20, 141231],\n",
       "       [    50,  75848],\n",
       "       [    25,  82560],\n",
       "       [    55, 147667],\n",
       "       [    54, 134972]], dtype=int64)"
      ]
     },
     "execution_count": 21,
     "metadata": {},
     "output_type": "execute_result"
    }
   ],
   "source": [
    "x"
   ]
  },
  {
   "cell_type": "code",
   "execution_count": 22,
   "metadata": {
    "metadata": {}
   },
   "outputs": [
    {
     "name": "stdout",
     "output_type": "stream",
     "text": [
      "[[ 0.17951354  0.76103154]\n",
      " [ 1.11315372 -1.14804259]\n",
      " [ 1.622412    0.39722026]\n",
      " [-0.0751156  -1.63500628]\n",
      " [-0.0751156   0.51296235]\n",
      " [-0.0751156   0.27205647]\n",
      " [-1.68776681 -0.49988685]\n",
      " [ 1.622412    1.71449234]\n",
      " [ 0.68877182 -0.67642883]\n",
      " [ 0.17951354  0.51010409]\n",
      " [-0.66925025 -0.42211381]\n",
      " [ 0.7736482   0.48681452]\n",
      " [ 1.28290648 -0.40397617]\n",
      " [ 1.1980301   1.66971285]\n",
      " [ 1.45265924  1.40703476]\n",
      " [ 0.09463716  1.23391563]\n",
      " [ 0.94340096  0.58523059]\n",
      " [ 1.28290648 -0.95915007]\n",
      " [ 0.3492663   0.82945347]\n",
      " [ 0.60389544  0.48695567]\n",
      " [ 1.02827734 -0.72004384]\n",
      " [-1.68776681  0.2258655 ]\n",
      " [ 0.00976078 -1.41410826]\n",
      " [ 1.02827734 -0.82625839]\n",
      " [-1.00875577  0.67023751]\n",
      " [-1.51801405  0.21697311]\n",
      " [-1.26338491  0.53166458]\n",
      " [-0.15999198 -0.50532108]\n",
      " [ 1.45265924  0.50308193]\n",
      " [ 1.45265924  1.18754822]\n",
      " [ 0.26438992  0.24622622]\n",
      " [-0.41462111 -0.53630326]\n",
      " [-0.49949749 -0.12181953]\n",
      " [-0.66925025 -1.08628994]\n",
      " [ 1.28290648 -0.31060618]\n",
      " [ 0.68877182 -1.6924186 ]\n",
      " [-1.51801405 -1.6164452 ]\n",
      " [ 0.17951354  1.38254542]\n",
      " [ 1.622412    0.59020609]\n",
      " [-1.43313767 -0.08695575]\n",
      " [ 0.00976078  1.17163368]\n",
      " [-1.34826129  0.69021008]\n",
      " [ 0.85852458  0.73844772]\n",
      " [ 0.09463716  0.48692038]\n",
      " [ 1.02827734  0.10366584]\n",
      " [-0.49949749  1.42961858]\n",
      " [-1.68776681 -1.61168143]\n",
      " [-1.26338491 -1.27151258]\n",
      " [ 0.51901906 -1.54170686]\n",
      " [ 1.53753562 -1.22433356]\n",
      " [-0.15999198 -0.9753822 ]\n",
      " [-1.60289043  0.31433057]\n",
      " [ 0.17951354  0.73717738]\n",
      " [-0.75412663 -1.11914235]\n",
      " [-1.17850853 -0.68687385]\n",
      " [ 0.60389544 -1.36901118]\n",
      " [-0.75412663  0.82532486]\n",
      " [-0.32974473 -0.04302315]\n",
      " [-1.26338491  0.76053752]\n",
      " [-1.00875577 -1.36223604]\n",
      " [ 0.09463716  0.27018625]\n",
      " [-0.66925025 -0.44872037]\n",
      " [ 1.11315372  0.66325064]\n",
      " [-0.15999198 -1.27052454]\n",
      " [ 0.26438992 -1.63535915]\n",
      " [-0.49949749 -0.39084932]\n",
      " [-0.92387939 -0.12647744]\n",
      " [ 0.60389544  0.83065323]\n",
      " [-0.75412663  0.80718723]\n",
      " [-0.75412663 -0.74287468]\n",
      " [ 0.94340096  1.50947357]\n",
      " [ 1.622412   -0.42670114]\n",
      " [-0.92387939  1.51166138]\n",
      " [-1.26338491  1.29902056]\n",
      " [ 1.622412    1.66244369]\n",
      " [ 1.70728837  1.50372175]\n",
      " [-0.41462111 -1.06398842]\n",
      " [-1.17850853 -1.1156842 ]\n",
      " [-0.32974473  0.37756527]\n",
      " [-1.43313767 -0.57737759]\n",
      " [ 1.53753562  0.31157816]\n",
      " [-0.83900301  1.46935199]\n",
      " [ 0.26438992  1.75083818]\n",
      " [ 1.36778286 -1.46213417]\n",
      " [ 0.94340096  0.10130159]\n",
      " [-1.00875577 -1.57385352]\n",
      " [ 0.09463716 -1.75283032]\n",
      " [-0.49949749  0.28073713]\n",
      " [ 0.26438992  0.53240561]\n",
      " [ 0.60389544  0.7790986 ]\n",
      " [-0.49949749 -0.64597596]\n",
      " [-0.49949749  0.26785729]\n",
      " [-1.17850853  0.44012952]\n",
      " [ 0.43414268 -0.14549725]\n",
      " [ 1.45265924  0.79060223]\n",
      " [ 0.94340096 -0.14390933]\n",
      " [-0.49949749  1.52782293]\n",
      " [ 1.622412    1.34443522]\n",
      " [-0.32974473 -1.67844485]\n",
      " [-0.32974473 -0.70977526]\n",
      " [-1.43313767  0.48762613]\n",
      " [ 1.1980301   1.47609185]\n",
      " [-0.24486835 -1.2051726 ]\n",
      " [-0.32974473  0.44256434]\n",
      " [-0.49949749 -0.64407045]\n",
      " [ 0.85852458  1.74981485]\n",
      " [ 0.00976078 -0.86242779]\n",
      " [ 1.02827734  0.0319622 ]\n",
      " [ 0.09463716  0.9514414 ]\n",
      " [ 0.00976078  0.29541661]\n",
      " [ 0.7736482   0.21189175]\n",
      " [-1.68776681  1.31338246]\n",
      " [-1.34826129 -0.23664415]\n",
      " [-1.00875577  0.82483084]\n",
      " [-1.68776681 -0.61319413]\n",
      " [-1.43313767  0.87102182]\n",
      " [-0.0751156  -0.79344127]\n",
      " [ 0.17951354 -0.90639567]\n",
      " [ 1.36778286 -1.15862875]\n",
      " [-1.68776681  1.27498996]\n",
      " [ 1.36778286  1.45618986]\n",
      " [ 0.60389544 -1.54040123]\n",
      " [ 1.1980301   0.2189492 ]\n",
      " [-0.75412663  1.21662489]\n",
      " [ 0.00976078  1.43385305]\n",
      " [ 1.02827734 -0.58570538]\n",
      " [ 0.26438992  1.21655432]\n",
      " [ 0.43414268 -1.51347708]\n",
      " [ 1.53753562 -0.74100445]\n",
      " [-0.83900301 -0.51805977]\n",
      " [-0.66925025  0.92832827]\n",
      " [-1.26338491  0.50128228]\n",
      " [ 0.68877182 -0.13734591]\n",
      " [-0.58437387 -0.08078048]\n",
      " [ 0.60389544  1.24524283]\n",
      " [-1.17850853  0.68565803]\n",
      " [ 1.1980301   1.73933455]\n",
      " [ 0.43414268 -0.6049722 ]\n",
      " [ 1.53753562  1.47693875]\n",
      " [ 1.1980301  -0.74294525]\n",
      " [ 1.45265924  0.87458583]\n",
      " [ 0.85852458  1.13493497]\n",
      " [ 0.09463716 -1.43785656]\n",
      " [ 0.51901906  0.75185686]\n",
      " [ 1.36778286  1.06280788]\n",
      " [-0.92387939 -0.24373689]\n",
      " [-0.83900301 -1.65130898]\n",
      " [-0.24486835  0.38857489]\n",
      " [-1.17850853  0.65054724]\n",
      " [-0.58437387  0.44341123]\n",
      " [ 0.09463716 -0.34695202]\n",
      " [-0.83900301  0.76089039]\n",
      " [-0.41462111 -0.35697359]\n",
      " [ 0.43414268  0.03905493]\n",
      " [ 0.26438992 -1.20665466]\n",
      " [ 1.1980301  -1.63175986]\n",
      " [ 1.02827734 -1.66979948]\n",
      " [ 1.53753562 -0.59858521]\n",
      " [-0.83900301 -1.62671378]\n",
      " [-1.51801405 -0.42497207]\n",
      " [ 1.02827734 -0.37151193]\n",
      " [ 0.51901906  1.58124778]\n",
      " [ 1.36778286  0.03961953]\n",
      " [-1.26338491  1.56420405]\n",
      " [-1.51801405 -0.24394861]\n",
      " [ 0.17951354  1.55640558]\n",
      " [ 0.00976078  1.23215127]\n",
      " [ 1.53753562 -1.37508059]\n",
      " [-0.15999198 -0.98243964]\n",
      " [ 1.11315372  0.62072954]\n",
      " [-1.34826129 -1.40507473]\n",
      " [ 0.43414268 -0.64103575]\n",
      " [ 0.26438992  0.18810817]\n",
      " [ 1.1980301  -0.36223139]\n",
      " [-0.83900301  0.04455974]\n",
      " [-1.34826129 -1.26586663]\n",
      " [ 0.26438992 -0.75448417]\n",
      " [-0.49949749 -0.05615   ]\n",
      " [-1.60289043 -1.14871304]\n",
      " [-1.09363215 -1.40221646]\n",
      " [ 0.26438992 -0.49600525]\n",
      " [-0.75412663  0.78626191]\n",
      " [-0.41462111  0.41129986]\n",
      " [ 0.94340096  0.44521088]\n",
      " [-1.34826129  1.60090277]\n",
      " [ 1.11315372 -0.52829306]\n",
      " [-1.34826129  0.63696166]\n",
      " [ 0.7736482   0.85179028]\n",
      " [-0.24486835  0.38352881]\n",
      " [-0.0751156  -1.17524904]\n",
      " [-1.00875577 -0.90583108]\n",
      " [-0.49949749 -1.6487683 ]\n",
      " [ 0.43414268 -1.38040896]\n",
      " [-0.15999198 -0.13039432]\n",
      " [-0.24486835  0.56289378]\n",
      " [-0.66925025  1.75747218]\n",
      " [-1.51801405 -1.58267533]\n",
      " [ 1.45265924  0.2493315 ]\n",
      " [-1.17850853 -0.61869893]\n",
      " [-0.49949749 -0.06207826]\n",
      " [-0.49949749  1.05536228]\n",
      " [ 0.68877182 -1.60398881]\n",
      " [ 0.09463716  0.54246247]\n",
      " [ 0.60389544 -1.47141471]\n",
      " [-0.66925025  0.23916878]\n",
      " [-0.75412663 -1.18174188]\n",
      " [ 1.36778286  0.50971593]\n",
      " [-0.66925025 -0.21504837]\n",
      " [-0.83900301 -0.31205295]\n",
      " [-0.66925025 -0.42761861]\n",
      " [-1.43313767 -1.49392796]\n",
      " [-0.41462111  1.3848038 ]\n",
      " [ 1.28290648 -0.71722086]\n",
      " [-1.43313767 -1.44142057]\n",
      " [-0.66925025 -0.70352942]\n",
      " [ 0.17951354 -0.91807574]\n",
      " [ 0.43414268 -0.06715962]\n",
      " [ 0.51901906  0.89014749]\n",
      " [-1.26338491  0.95567587]\n",
      " [-0.92387939  1.06030249]\n",
      " [ 0.3492663   0.49380139]\n",
      " [ 0.51901906  1.43431178]\n",
      " [-0.58437387 -0.10569326]\n",
      " [-1.26338491 -0.92142803]\n",
      " [ 1.1980301   1.13017119]\n",
      " [ 1.11315372  0.54429741]\n",
      " [-1.43313767  1.1729746 ]\n",
      " [ 1.28290648 -0.74100445]\n",
      " [-1.17850853  0.51370338]\n",
      " [-0.92387939  1.56716818]\n",
      " [ 1.622412   -0.91528805]\n",
      " [ 0.43414268 -1.05975395]\n",
      " [ 1.02827734  0.11742785]\n",
      " [-0.75412663  0.73936518]\n",
      " [ 0.26438992 -0.38753233]\n",
      " [ 0.94340096  1.60968929]\n",
      " [-0.0751156   0.02306982]\n",
      " [-0.58437387  1.18888914]\n",
      " [-1.00875577 -0.7146449 ]\n",
      " [ 0.17951354 -1.43026981]\n",
      " [-1.43313767 -1.41439055]\n",
      " [-1.00875577 -0.12704204]\n",
      " [ 1.45265924  0.1744873 ]\n",
      " [-0.15999198  0.89903987]\n",
      " [-1.26338491 -1.23209675]\n",
      " [ 0.3492663   1.67712317]\n",
      " [-0.32974473 -1.68864286]\n",
      " [ 0.51901906 -0.43082975]\n",
      " [ 0.3492663   0.82634819]\n",
      " [ 1.53753562 -0.67110046]\n",
      " [ 1.02827734 -1.33626464]\n",
      " [ 1.28290648 -1.54587075]\n",
      " [-0.32974473 -0.58492906]\n",
      " [ 1.45265924 -1.32412583]\n",
      " [-0.92387939 -0.49388802]\n",
      " [-1.60289043 -0.2718608 ]\n",
      " [ 1.53753562  0.52721839]\n",
      " [-1.26338491 -0.84672498]\n",
      " [-0.0751156   1.67119492]\n",
      " [-1.09363215  0.57873774]\n",
      " [ 0.09463716 -0.83568008]\n",
      " [-1.00875577  1.41384519]\n",
      " [ 0.94340096 -0.36639528]\n",
      " [-0.83900301 -0.09754192]\n",
      " [ 0.43414268 -0.57444875]\n",
      " [ 0.26438992  0.85231959]\n",
      " [-0.75412663  0.13852961]\n",
      " [-1.26338491  1.74797992]\n",
      " [ 1.28290648  0.06834333]\n",
      " [-0.92387939 -0.54247853]\n",
      " [ 1.622412   -0.68274524]\n",
      " [-0.41462111  0.59525216]\n",
      " [ 0.68877182 -1.27214775]\n",
      " [-1.43313767  0.90263917]\n",
      " [-0.75412663  0.54750855]\n",
      " [-1.51801405 -1.67773911]\n",
      " [ 1.28290648 -0.72156119]\n",
      " [-1.34826129  0.64920633]\n",
      " [ 0.43414268  0.6763422 ]\n",
      " [-0.66925025  1.62528624]\n",
      " [-1.26338491 -0.34525823]\n",
      " [ 1.45265924  0.01569479]\n",
      " [ 1.622412   -1.71161485]\n",
      " [ 1.622412   -0.09701261]\n",
      " [ 0.94340096  0.74105897]\n",
      " [ 0.60389544 -0.30930055]\n",
      " [-0.15999198 -1.15986381]\n",
      " [ 1.622412   -1.5109364 ]\n",
      " [ 1.70728837 -0.8820122 ]\n",
      " [-1.34826129  1.51014403]\n",
      " [ 1.36778286 -0.98286309]\n",
      " [-0.0751156   1.37944015]\n",
      " [-0.32974473 -0.93564878]\n",
      " [-0.24486835  1.59179866]\n",
      " [-0.24486835  1.33646031]\n",
      " [-1.68776681 -1.33488844]\n",
      " [ 1.622412   -0.56545051]\n",
      " [ 0.85852458  0.53088826]\n",
      " [ 0.94340096  0.61508358]\n",
      " [ 1.70728837 -1.25965608]\n",
      " [-0.41462111 -1.5195112 ]\n",
      " [ 1.45265924  0.0593098 ]\n",
      " [ 0.26438992 -0.87573107]\n",
      " [-1.09363215 -1.00089486]\n",
      " [-0.83900301  1.10017705]\n",
      " [-1.51801405  0.3995845 ]\n",
      " [ 1.45265924  1.31955773]\n",
      " [-0.24486835 -1.20725455]\n",
      " [-1.26338491 -0.3685478 ]\n",
      " [-1.43313767  1.45213183]\n",
      " [ 0.85852458  1.29870298]\n",
      " [ 1.1980301  -0.85597023]\n",
      " [ 1.02827734 -0.99930693]\n",
      " [ 1.622412   -0.63500163]\n",
      " [ 0.3492663  -0.13512281]\n",
      " [ 0.60389544  0.29262892]\n",
      " [-0.92387939 -0.57120233]\n",
      " [ 0.60389544  0.65294677]\n",
      " [ 1.02827734 -0.8786952 ]\n",
      " [-1.26338491 -1.44262033]\n",
      " [-0.15999198 -1.22715654]\n",
      " [-1.68776681 -1.22768585]\n",
      " [-1.51801405  0.40978251]\n",
      " [ 0.26438992 -0.30146679]\n",
      " [ 0.09463716 -1.19860918]\n",
      " [-0.66925025  0.93757352]\n",
      " [-1.43313767  1.42626629]\n",
      " [-1.00875577 -0.19440535]\n",
      " [ 1.02827734  0.89773425]\n",
      " [ 1.02827734 -1.29310836]\n",
      " [ 0.00976078  0.25938836]\n",
      " [ 0.7736482  -1.42243604]\n",
      " [-0.32974473  1.23977331]\n",
      " [-1.00875577 -1.44533745]\n",
      " [-0.24486835  1.59769163]\n",
      " [-1.51801405  1.63735447]\n",
      " [-0.75412663  0.97737751]\n",
      " [-0.0751156  -0.57684828]\n",
      " [-1.60289043  0.83672264]\n",
      " [ 0.94340096 -1.25415127]\n",
      " [ 0.7736482   1.02042793]\n",
      " [ 0.68877182  0.71946319]\n",
      " [-1.00875577 -0.68630925]\n",
      " [-0.83900301  0.16937065]\n",
      " [-1.34826129  1.37834624]\n",
      " [ 0.17951354  1.07893414]\n",
      " [ 1.622412    1.4190677 ]\n",
      " [ 1.70728837 -0.94722299]\n",
      " [ 0.94340096 -1.6816207 ]\n",
      " [-0.32974473  0.70679508]\n",
      " [-0.58437387 -0.46336457]\n",
      " [-0.92387939 -1.04983824]\n",
      " [-1.60289043 -0.37313514]\n",
      " [ 0.3492663   1.53406876]\n",
      " [-0.92387939  1.09237858]\n",
      " [ 1.622412   -0.68909695]\n",
      " [-1.00875577  0.70587761]\n",
      " [-1.60289043 -0.83649168]\n",
      " [ 0.3492663   1.63093219]\n",
      " [-1.26338491 -0.70307069]\n",
      " [ 0.26438992 -0.34462306]\n",
      " [ 0.51901906  1.68608613]\n",
      " [-0.32974473 -1.38231447]\n",
      " [ 0.26438992 -0.76397644]\n",
      " [ 1.28290648 -0.64714044]\n",
      " [-1.00875577 -1.01628009]\n",
      " [ 0.85852458  0.16051356]\n",
      " [ 0.68877182  0.99237458]\n",
      " [-0.58437387  0.93683249]\n",
      " [-1.34826129  0.39591463]\n",
      " [ 1.11315372 -0.28505823]\n",
      " [-0.0751156  -0.29162165]\n",
      " [-0.15999198 -0.73161805]\n",
      " [ 0.60389544  0.21136245]\n",
      " [ 1.70728837  1.75122634]\n",
      " [-0.66925025  1.1500379 ]\n",
      " [ 1.28290648 -1.21688796]\n",
      " [ 0.26438992  0.75524444]\n",
      " [ 1.28290648  1.54945399]\n",
      " [-0.0751156   0.2866301 ]\n",
      " [-0.41462111 -0.38890853]\n",
      " [ 1.28290648 -0.76549379]\n",
      " [-0.32974473 -1.45225375]\n",
      " [-1.09363215 -1.33188902]\n",
      " [ 0.94340096  0.00468517]\n",
      " [ 0.17951354 -0.96465488]\n",
      " [ 0.60389544 -0.28325858]\n",
      " [-0.49949749  1.44772093]\n",
      " [-0.41462111 -0.72699542]\n",
      " [ 1.53753562  1.01891058]\n",
      " [-1.26338491  1.00790096]\n",
      " [-1.43313767 -0.94754058]\n",
      " [ 1.45265924  0.57238604]\n",
      " [-1.00875577  0.40314851]\n",
      " [ 0.09463716  0.28483045]\n",
      " [-1.68776681  1.4638119 ]\n",
      " [ 0.85852458 -0.84337269]\n",
      " [-1.26338491 -0.60652484]\n",
      " [ 1.28290648  1.69092048]\n",
      " [ 1.1980301   1.24294916]]\n"
     ]
    }
   ],
   "source": [
    "# Feature Scaling - Standardization (To standardize Salary)\n",
    "\n",
    "from sklearn.preprocessing import StandardScaler\n",
    "sc_x=StandardScaler()\n",
    "x=sc_x.fit_transform(x)\n",
    "print(x)"
   ]
  },
  {
   "cell_type": "code",
   "execution_count": 23,
   "metadata": {
    "metadata": {}
   },
   "outputs": [
    {
     "name": "stdout",
     "output_type": "stream",
     "text": [
      "(400, 2)\n",
      "(320, 2)\n",
      "(80, 2)\n",
      "(320,)\n",
      "(80,)\n"
     ]
    }
   ],
   "source": [
    "# Train Test Split Data\n",
    "\n",
    "from sklearn.model_selection import train_test_split\n",
    "x_train,x_test,y_train,y_test=train_test_split(x,y,test_size=0.2)\n",
    "print(x.shape)\n",
    "print(x_train.shape)\n",
    "print(x_test.shape)\n",
    "print(y_train.shape)\n",
    "print(y_test.shape)"
   ]
  },
  {
   "cell_type": "code",
   "execution_count": 24,
   "metadata": {
    "metadata": {}
   },
   "outputs": [
    {
     "name": "stdout",
     "output_type": "stream",
     "text": [
      "LogisticRegression()\n"
     ]
    }
   ],
   "source": [
    "# Create Model\n",
    "\n",
    "from sklearn.linear_model import LogisticRegression\n",
    "lr=LogisticRegression()\n",
    "lr.fit(x_train,y_train)\n",
    "print(lr)"
   ]
  },
  {
   "cell_type": "code",
   "execution_count": 25,
   "metadata": {
    "metadata": {}
   },
   "outputs": [
    {
     "name": "stdout",
     "output_type": "stream",
     "text": [
      "[0 0 0 0 0 0 0 0 0 0 0 0 0 0 0 0 0 0 0 0 0 0 0 0 0 0 0 0 0 0 0 0 0 0 0 0 0\n",
      " 0 0 0 0 0 0 0 0 0 0 0 0 0 0 0 0 0 0 0 0 0 0 0 0 0 0 0 0 0 0 0 0 0 0 0 0 0\n",
      " 0 0 0 0 0 0]\n"
     ]
    }
   ],
   "source": [
    "# Predict the result (Test Data Set)\n",
    "\n",
    "y_pred=lr.predict(x_test)\n",
    "print(y_pred)"
   ]
  },
  {
   "cell_type": "code",
   "execution_count": 26,
   "metadata": {
    "metadata": {}
   },
   "outputs": [
    {
     "data": {
      "text/plain": [
       "array([0, 0, 1, 0, 0, 0, 1, 0, 0, 1, 0, 1, 1, 1, 0, 0, 0, 0, 0, 0, 1, 0,\n",
       "       1, 0, 0, 0, 0, 0, 0, 1, 0, 0, 0, 0, 0, 0, 0, 1, 0, 0, 0, 0, 0, 0,\n",
       "       1, 1, 1, 1, 0, 1, 0, 0, 0, 0, 1, 1, 0, 0, 1, 1, 0, 0, 0, 1, 1, 1,\n",
       "       0, 0, 0, 0, 1, 0, 0, 0, 0, 0, 0, 1, 1, 0], dtype=int64)"
      ]
     },
     "execution_count": 26,
     "metadata": {},
     "output_type": "execute_result"
    }
   ],
   "source": [
    "y_test"
   ]
  },
  {
   "cell_type": "code",
   "execution_count": 29,
   "metadata": {
    "metadata": {}
   },
   "outputs": [
    {
     "data": {
      "text/html": [
       "<div>\n",
       "<style scoped>\n",
       "    .dataframe tbody tr th:only-of-type {\n",
       "        vertical-align: middle;\n",
       "    }\n",
       "\n",
       "    .dataframe tbody tr th {\n",
       "        vertical-align: top;\n",
       "    }\n",
       "\n",
       "    .dataframe thead th {\n",
       "        text-align: right;\n",
       "    }\n",
       "</style>\n",
       "<table border=\"1\" class=\"dataframe\">\n",
       "  <thead>\n",
       "    <tr style=\"text-align: right;\">\n",
       "      <th></th>\n",
       "      <th>Prediction</th>\n",
       "    </tr>\n",
       "  </thead>\n",
       "  <tbody>\n",
       "    <tr>\n",
       "      <th>0</th>\n",
       "      <td>0</td>\n",
       "    </tr>\n",
       "    <tr>\n",
       "      <th>1</th>\n",
       "      <td>0</td>\n",
       "    </tr>\n",
       "    <tr>\n",
       "      <th>2</th>\n",
       "      <td>0</td>\n",
       "    </tr>\n",
       "    <tr>\n",
       "      <th>3</th>\n",
       "      <td>0</td>\n",
       "    </tr>\n",
       "    <tr>\n",
       "      <th>4</th>\n",
       "      <td>0</td>\n",
       "    </tr>\n",
       "    <tr>\n",
       "      <th>5</th>\n",
       "      <td>0</td>\n",
       "    </tr>\n",
       "    <tr>\n",
       "      <th>6</th>\n",
       "      <td>0</td>\n",
       "    </tr>\n",
       "    <tr>\n",
       "      <th>7</th>\n",
       "      <td>0</td>\n",
       "    </tr>\n",
       "    <tr>\n",
       "      <th>8</th>\n",
       "      <td>0</td>\n",
       "    </tr>\n",
       "    <tr>\n",
       "      <th>9</th>\n",
       "      <td>0</td>\n",
       "    </tr>\n",
       "  </tbody>\n",
       "</table>\n",
       "</div>"
      ],
      "text/plain": [
       "   Prediction\n",
       "0           0\n",
       "1           0\n",
       "2           0\n",
       "3           0\n",
       "4           0\n",
       "5           0\n",
       "6           0\n",
       "7           0\n",
       "8           0\n",
       "9           0"
      ]
     },
     "execution_count": 29,
     "metadata": {},
     "output_type": "execute_result"
    }
   ],
   "source": [
    "df_ypred=pd.DataFrame(y_pred,columns=['Prediction'])\n",
    "df_ypred.head(10)"
   ]
  },
  {
   "cell_type": "code",
   "execution_count": 30,
   "metadata": {
    "metadata": {}
   },
   "outputs": [
    {
     "name": "stdout",
     "output_type": "stream",
     "text": [
      "    Y_Test  Prediction\n",
      "0        0           0\n",
      "1        0           0\n",
      "2        1           0\n",
      "3        0           0\n",
      "4        0           0\n",
      "5        0           0\n",
      "6        1           0\n",
      "7        0           0\n",
      "8        0           0\n",
      "9        1           0\n",
      "10       0           0\n",
      "11       1           0\n",
      "12       1           0\n",
      "13       1           0\n",
      "14       0           0\n",
      "15       0           0\n",
      "16       0           0\n",
      "17       0           0\n",
      "18       0           0\n",
      "19       0           0\n",
      "20       1           0\n",
      "21       0           0\n",
      "22       1           0\n",
      "23       0           0\n",
      "24       0           0\n",
      "25       0           0\n",
      "26       0           0\n",
      "27       0           0\n",
      "28       0           0\n",
      "29       1           0\n",
      "30       0           0\n",
      "31       0           0\n",
      "32       0           0\n",
      "33       0           0\n",
      "34       0           0\n",
      "35       0           0\n",
      "36       0           0\n",
      "37       1           0\n",
      "38       0           0\n",
      "39       0           0\n",
      "40       0           0\n",
      "41       0           0\n",
      "42       0           0\n",
      "43       0           0\n",
      "44       1           0\n",
      "45       1           0\n",
      "46       1           0\n",
      "47       1           0\n",
      "48       0           0\n",
      "49       1           0\n"
     ]
    }
   ],
   "source": [
    "# Display Test And Prediction\n",
    "\n",
    "df_ypred=pd.DataFrame(y_pred,columns=['Prediction'])\n",
    "result=pd.concat([pd.DataFrame(y_test,columns=['Y_Test']),df_ypred],axis=1)\n",
    "print(result.head(50))"
   ]
  },
  {
   "cell_type": "code",
   "execution_count": 31,
   "metadata": {
    "metadata": {}
   },
   "outputs": [
    {
     "name": "stdout",
     "output_type": "stream",
     "text": [
      "0.6875\n"
     ]
    }
   ],
   "source": [
    "# Display Accuracy\n",
    "\n",
    "from sklearn.metrics import accuracy_score\n",
    "print(accuracy_score(y_test,y_pred))"
   ]
  },
  {
   "cell_type": "code",
   "execution_count": 32,
   "metadata": {
    "metadata": {}
   },
   "outputs": [
    {
     "name": "stdout",
     "output_type": "stream",
     "text": [
      "[[55  0]\n",
      " [25  0]]\n"
     ]
    }
   ],
   "source": [
    "# Display Confusion Matrix\n",
    "\n",
    "# Prajwal how to find this, Add the diagonal values divide by total number of records.\n",
    "\n",
    "from sklearn.metrics import confusion_matrix\n",
    "cm=confusion_matrix(y_test,y_pred)\n",
    "print(cm)"
   ]
  },
  {
   "cell_type": "code",
   "execution_count": 33,
   "metadata": {
    "metadata": {}
   },
   "outputs": [
    {
     "data": {
      "text/plain": [
       "55"
      ]
     },
     "execution_count": 33,
     "metadata": {},
     "output_type": "execute_result"
    }
   ],
   "source": [
    "55+0"
   ]
  },
  {
   "cell_type": "code",
   "execution_count": 34,
   "metadata": {
    "metadata": {}
   },
   "outputs": [
    {
     "data": {
      "text/plain": [
       "0.6875"
      ]
     },
     "execution_count": 34,
     "metadata": {},
     "output_type": "execute_result"
    }
   ],
   "source": [
    "55/80"
   ]
  },
  {
   "cell_type": "code",
   "execution_count": 35,
   "metadata": {
    "metadata": {}
   },
   "outputs": [
    {
     "name": "stdout",
     "output_type": "stream",
     "text": [
      "              precision    recall  f1-score   support\n",
      "\n",
      "           0       0.69      1.00      0.81        55\n",
      "           1       0.00      0.00      0.00        25\n",
      "\n",
      "    accuracy                           0.69        80\n",
      "   macro avg       0.34      0.50      0.41        80\n",
      "weighted avg       0.47      0.69      0.56        80\n",
      "\n"
     ]
    }
   ],
   "source": [
    "# display Classification Report\n",
    "\n",
    "from sklearn.metrics import classification_report\n",
    "print(classification_report(y_test,y_pred,zero_division=0))"
   ]
  },
  {
   "cell_type": "code",
   "execution_count": 36,
   "metadata": {
    "metadata": {}
   },
   "outputs": [
    {
     "name": "stdout",
     "output_type": "stream",
     "text": [
      "[0 0 0 0 0 0 0 0 0 0 0 0 0 0 0 0 0 0 0 0 0 0 0 0 0 0 0 0 0 0 0 0 0 0 0 0 0\n",
      " 0 0 0 0 0 0 0 0 0 0 0 0 0 0 0 0 0 0 0 0 0 0 0 0 0 0 0 0 0 0 0 0 0 0 0 0 0\n",
      " 0 0 0 0 0 0 0 0 0 0 0 0 0 0 0 0 0 0 0 0 0 0 0 0 0 0 0 0 0 0 0 0 0 0 0 0 0\n",
      " 0 0 0 0 0 0 0 0 0 0 0 0 0 0 0 0 0 0 0 0 0 0 0 0 0 0 0 0 0 0 0 0 0 0 0 0 0\n",
      " 0 0 0 0 0 0 0 0 0 0 0 0 0 0 0 0 0 0 0 0 0 0 0 0 0 0 0 0 0 0 0 0 0 0 0 0 0\n",
      " 0 0 0 0 0 0 0 0 0 0 0 0 0 0 0 0 0 0 0 0 0 0 0 0 0 0 0 0 0 0 0 0 0 0 0 0 0\n",
      " 0 0 0 0 0 0 0 0 0 0 0 0 0 0 0 0 0 0 0 0 0 0 0 0 0 0 0 0 0 0 0 0 0 0 0 0 0\n",
      " 0 0 0 0 0 0 0 0 0 0 0 0 0 0 0 0 0 0 0 0 0 0 0 0 0 0 0 0 0 0 0 0 0 0 0 0 0\n",
      " 0 0 0 0 0 0 0 0 0 0 0 0 0 0 0 0 0 0 0 0 0 0 0 0 0 0 0 0 0 0 0 0 0 0 0 0 0\n",
      " 0 0 0 0 0 0 0 0 0 0 0 0 0 0 0 0 0 0 0 0 0 0 0 0 0 0 0 0 0 0 0 0 0 0 0 0 0\n",
      " 0 0 0 0 0 0 0 0 0 0 0 0 0 0 0 0 0 0 0 0 0 0 0 0 0 0 0 0 0 0]\n"
     ]
    }
   ],
   "source": [
    "# Prediction for Complete Data Set\n",
    "\n",
    "y_pred=lr.predict(x)\n",
    "print(y_pred)"
   ]
  },
  {
   "cell_type": "code",
   "execution_count": 42,
   "metadata": {
    "metadata": {}
   },
   "outputs": [
    {
     "data": {
      "text/plain": [
       "400"
      ]
     },
     "execution_count": 42,
     "metadata": {},
     "output_type": "execute_result"
    }
   ],
   "source": [
    "len(y_pred)"
   ]
  },
  {
   "cell_type": "code",
   "execution_count": 37,
   "metadata": {
    "metadata": {}
   },
   "outputs": [
    {
     "name": "stdout",
     "output_type": "stream",
     "text": [
      "0.6425\n"
     ]
    }
   ],
   "source": [
    "# Display Accuracy\n",
    "\n",
    "from sklearn.metrics import accuracy_score\n",
    "print(accuracy_score(y,y_pred))"
   ]
  },
  {
   "cell_type": "code",
   "execution_count": 38,
   "metadata": {
    "metadata": {}
   },
   "outputs": [
    {
     "name": "stdout",
     "output_type": "stream",
     "text": [
      "[[257   0]\n",
      " [143   0]]\n"
     ]
    }
   ],
   "source": [
    "# Display Confusion Matrix\n",
    "\n",
    "from sklearn.metrics import confusion_matrix\n",
    "cm=confusion_matrix(y,y_pred)\n",
    "print(cm)"
   ]
  },
  {
   "cell_type": "code",
   "execution_count": 39,
   "metadata": {
    "metadata": {}
   },
   "outputs": [
    {
     "data": {
      "text/plain": [
       "257"
      ]
     },
     "execution_count": 39,
     "metadata": {},
     "output_type": "execute_result"
    }
   ],
   "source": [
    "257+0"
   ]
  },
  {
   "cell_type": "code",
   "execution_count": 41,
   "metadata": {
    "metadata": {}
   },
   "outputs": [
    {
     "data": {
      "text/plain": [
       "0.6425"
      ]
     },
     "execution_count": 41,
     "metadata": {},
     "output_type": "execute_result"
    }
   ],
   "source": [
    "257/400"
   ]
  },
  {
   "cell_type": "code",
   "execution_count": 45,
   "metadata": {
    "metadata": {}
   },
   "outputs": [
    {
     "name": "stdout",
     "output_type": "stream",
     "text": [
      "              precision    recall  f1-score   support\n",
      "\n",
      "           0       0.64      1.00      0.78       257\n",
      "           1       0.00      0.00      0.00       143\n",
      "\n",
      "    accuracy                           0.64       400\n",
      "   macro avg       0.32      0.50      0.39       400\n",
      "weighted avg       0.41      0.64      0.50       400\n",
      "\n"
     ]
    }
   ],
   "source": [
    "# Display Classification Report\n",
    "\n",
    "from sklearn.metrics import classification_report\n",
    "print(classification_report(y,y_pred,zero_division=0))"
   ]
  },
  {
   "cell_type": "code",
   "execution_count": 46,
   "metadata": {
    "metadata": {}
   },
   "outputs": [
    {
     "data": {
      "text/html": [
       "<div>\n",
       "<style scoped>\n",
       "    .dataframe tbody tr th:only-of-type {\n",
       "        vertical-align: middle;\n",
       "    }\n",
       "\n",
       "    .dataframe tbody tr th {\n",
       "        vertical-align: top;\n",
       "    }\n",
       "\n",
       "    .dataframe thead th {\n",
       "        text-align: right;\n",
       "    }\n",
       "</style>\n",
       "<table border=\"1\" class=\"dataframe\">\n",
       "  <thead>\n",
       "    <tr style=\"text-align: right;\">\n",
       "      <th></th>\n",
       "      <th>Prediction</th>\n",
       "    </tr>\n",
       "  </thead>\n",
       "  <tbody>\n",
       "    <tr>\n",
       "      <th>0</th>\n",
       "      <td>0</td>\n",
       "    </tr>\n",
       "    <tr>\n",
       "      <th>1</th>\n",
       "      <td>0</td>\n",
       "    </tr>\n",
       "    <tr>\n",
       "      <th>2</th>\n",
       "      <td>0</td>\n",
       "    </tr>\n",
       "    <tr>\n",
       "      <th>3</th>\n",
       "      <td>0</td>\n",
       "    </tr>\n",
       "    <tr>\n",
       "      <th>4</th>\n",
       "      <td>0</td>\n",
       "    </tr>\n",
       "    <tr>\n",
       "      <th>...</th>\n",
       "      <td>...</td>\n",
       "    </tr>\n",
       "    <tr>\n",
       "      <th>395</th>\n",
       "      <td>0</td>\n",
       "    </tr>\n",
       "    <tr>\n",
       "      <th>396</th>\n",
       "      <td>0</td>\n",
       "    </tr>\n",
       "    <tr>\n",
       "      <th>397</th>\n",
       "      <td>0</td>\n",
       "    </tr>\n",
       "    <tr>\n",
       "      <th>398</th>\n",
       "      <td>0</td>\n",
       "    </tr>\n",
       "    <tr>\n",
       "      <th>399</th>\n",
       "      <td>0</td>\n",
       "    </tr>\n",
       "  </tbody>\n",
       "</table>\n",
       "<p>400 rows × 1 columns</p>\n",
       "</div>"
      ],
      "text/plain": [
       "     Prediction\n",
       "0             0\n",
       "1             0\n",
       "2             0\n",
       "3             0\n",
       "4             0\n",
       "..          ...\n",
       "395           0\n",
       "396           0\n",
       "397           0\n",
       "398           0\n",
       "399           0\n",
       "\n",
       "[400 rows x 1 columns]"
      ]
     },
     "execution_count": 46,
     "metadata": {},
     "output_type": "execute_result"
    }
   ],
   "source": [
    "# Display Test and Prediction\n",
    "df_ypred=pd.DataFrame(y_pred,columns=['Prediction'])\n",
    "df_ypred"
   ]
  },
  {
   "cell_type": "code",
   "execution_count": 47,
   "metadata": {
    "metadata": {}
   },
   "outputs": [
    {
     "name": "stdout",
     "output_type": "stream",
     "text": [
      "     User ID  Gender  Age  EstimatedSalary  Purchased  Prediction\n",
      "0   11021175    Male   42           121315          0           0\n",
      "1   17782313    Male   53            67214          0           0\n",
      "2   14603818  Female   59           111005          0           0\n",
      "3   18188198  Female   39            53414          0           0\n",
      "4   19357305    Male   39           114285          0           0\n",
      "5   19524602    Male   39           107458          0           0\n",
      "6   19455396  Female   20            85582          0           0\n",
      "7   16879913  Female   59           148335          1           0\n",
      "8   11838352    Male   48            80579          0           0\n",
      "9   13118940  Female   42           114204          0           0\n",
      "10  19524480  Female   32            87786          0           0\n",
      "11  12784093  Female   49           113544          0           0\n",
      "12  12895966    Male   55            88300          0           0\n",
      "13  14674114    Male   54           147066          0           0\n",
      "14  12393248    Male   57           139622          0           0\n",
      "15  18842131    Male   41           134716          0           0\n",
      "16  11060500    Male   51           116333          1           0\n",
      "17  14887406    Male   55            72567          1           0\n",
      "18  12606442    Male   44           123254          1           0\n",
      "19  17919323  Female   47           113548          1           0\n",
      "20  17207101    Male   52            79343          1           0\n",
      "21  17159912  Female   20           106149          1           0\n",
      "22  10718832    Male   40            59674          1           0\n",
      "23  16952550  Female   52            76333          1           0\n",
      "24  10494682    Male   28           118742          1           0\n",
      "25  16824758    Male   22           105897          1           0\n",
      "26  11168323    Male   25           114815          1           0\n",
      "27  16945283  Female   38            85428          1           0\n",
      "28  13865670    Male   57           114005          0           0\n",
      "29  16924204    Male   57           133402          0           0\n",
      "30  10877441    Male   43           106726          0           0\n",
      "31  16751398  Female   35            84550          1           0\n",
      "32  10393028  Female   34            96296          0           0\n",
      "33  18915643  Female   32            68964          0           0\n",
      "34  12430332    Male   55            90946          0           0\n",
      "35  16222500    Male   48            51787          0           0\n",
      "36  10179619  Female   22            53940          0           0\n",
      "37  19088014    Male   42           138928          0           0\n",
      "38  15101607  Female   59           116474          0           0\n",
      "39  11468592  Female   23            97284          0           0\n",
      "40  19207686  Female   40           132951          0           0\n",
      "41  16970151  Female   24           119308          0           0\n",
      "42  12111836    Male   50           120675          0           0\n",
      "43  19889978    Male   41           113547          0           0\n",
      "44  19252002  Female   52           102686          0           0\n",
      "45  15836350    Male   34           140262          0           0\n",
      "46  15448575    Male   20            54075          0           0\n",
      "47  16700977  Female   25            63715          0           0\n",
      "48  15363592    Male   46            56058          1           0\n",
      "49  19732707  Female   58            65052          0           0\n"
     ]
    }
   ],
   "source": [
    "df_ypred=pd.DataFrame(y_pred,columns=['Prediction'])\n",
    "result=pd.concat([df1,df_ypred],axis=1)\n",
    "print(result.head(50))"
   ]
  },
  {
   "cell_type": "code",
   "execution_count": 52,
   "metadata": {
    "metadata": {}
   },
   "outputs": [
    {
     "data": {
      "image/png": "[encoded data removed]",
      "text/plain": [
       "<Figure size 640x480 with 1 Axes>"
      ]
     },
     "metadata": {},
     "output_type": "display_data"
    }
   ],
   "source": [
    "# PLot Graph Original Data\n",
    "\n",
    "plt.scatter(x[y==0,0],x[y==0,1],s=100,c='r',label='Cluster 1')\n",
    "plt.scatter(x[y==1,0],x[y==1,1],s=100,c='b',label='Cluster 1')\n",
    "plt.legend()\n",
    "plt.show()"
   ]
  },
  {
   "cell_type": "code",
   "execution_count": 49,
   "metadata": {
    "metadata": {}
   },
   "outputs": [
    {
     "data": {
      "text/plain": [
       "<matplotlib.collections.PathCollection at 0x24af228ba50>"
      ]
     },
     "execution_count": 49,
     "metadata": {},
     "output_type": "execute_result"
    },
    {
     "data": {
      "image/png": "[encoded data removed]",
      "text/plain": [
       "<Figure size 640x480 with 1 Axes>"
      ]
     },
     "metadata": {},
     "output_type": "display_data"
    }
   ],
   "source": [
    "plt.scatter(x[y==0,0],x[y==0,1],s=100,c='r',label='Cluster 1')"
   ]
  },
  {
   "cell_type": "code",
   "execution_count": 53,
   "metadata": {
    "metadata": {}
   },
   "outputs": [
    {
     "data": {
      "text/plain": [
       "<matplotlib.collections.PathCollection at 0x24af3aded90>"
      ]
     },
     "execution_count": 53,
     "metadata": {},
     "output_type": "execute_result"
    },
    {
     "data": {
      "image/png": "[encoded data removed]",
      "text/plain": [
       "<Figure size 640x480 with 1 Axes>"
      ]
     },
     "metadata": {},
     "output_type": "display_data"
    }
   ],
   "source": [
    "plt.scatter(x[y==1,0],x[y==1,1],s=100,c='b',label='Cluster 1')\n"
   ]
  },
  {
   "cell_type": "code",
   "execution_count": 54,
   "metadata": {
    "metadata": {}
   },
   "outputs": [
    {
     "data": {
      "image/png": "[encoded data removed]",
      "text/plain": [
       "<Figure size 640x480 with 1 Axes>"
      ]
     },
     "metadata": {},
     "output_type": "display_data"
    },
    {
     "data": {
      "image/png": "[encoded data removed]",
      "text/plain": [
       "<Figure size 640x480 with 1 Axes>"
      ]
     },
     "metadata": {},
     "output_type": "display_data"
    }
   ],
   "source": [
    "# Plot Grapg Predictction Data\n",
    "\n",
    "plt.scatter(x[y==0,0],x[y==0,1],s=100,c='r',label='Cluster 1')\n",
    "plt.scatter(x[y==1,0],x[y==1,1],s=100,c='b',label='Cluster 2')\n",
    "plt.legend()\n",
    "plt.show(0)\n"
   ]
  },
  {
   "cell_type": "code",
   "execution_count": null,
   "metadata": {},
   "outputs": [],
   "source": [
    "# Prajwal "
   ]
  }
 ],
 "metadata": {
  "kernelspec": {
   "display_name": "base",
   "language": "python",
   "name": "python3"
  },
  "language_info": {
   "codemirror_mode": {
    "name": "ipython",
    "version": 3
   },
   "file_extension": ".py",
   "mimetype": "text/x-python",
   "name": "python",
   "nbconvert_exporter": "python",
   "pygments_lexer": "ipython3",
   "version": "3.11.5"
  }
 },
 "nbformat": 4,
 "nbformat_minor": 2
}
